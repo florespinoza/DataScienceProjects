{
 "cells": [
  {
   "cell_type": "code",
   "execution_count": 105,
   "metadata": {},
   "outputs": [],
   "source": [
    "import sqlite3\n",
    "from sqlite3 import Error\n",
    "\n",
    " \n",
    "def create_connection(db_file):\n",
    "    \"\"\" create a database connection to the SQLite database\n",
    "        specified by the db_file\n",
    "    :param db_file: database file\n",
    "    :return: Connection object or None\n",
    "    \"\"\"\n",
    "    conn = None\n",
    "    try:\n",
    "        conn = sqlite3.connect(db_file)\n",
    "        print(sqlite3.version)\n",
    "    except Error as e:\n",
    "        print(e)\n",
    " \n",
    "    return conn\n",
    "\n",
    " \n",
    "def select_all_tasks(conn, query):\n",
    "    \"\"\"\n",
    "    Query all rows in the tasks table\n",
    "    :param conn: the Connection object\n",
    "    :return:\n",
    "    \"\"\"\n",
    "    cur = conn.cursor()\n",
    "    \n",
    "    cur.execute(query)\n",
    " \n",
    "    rows = cur.fetchall()\n",
    " \n",
    "    for row in rows:\n",
    "        print(row)\n",
    "        \n",
    "        \n",
    "def main(query):\n",
    "    database = \"sqlite_db_pythonsqlite.db\"\n",
    " \n",
    "    # create a database connection\n",
    "    conn = create_connection(database)\n",
    "    with conn: \n",
    "        print(\"2. Query all tasks\")\n",
    "        select_all_tasks(conn, query)\n",
    " "
   ]
  },
  {
   "cell_type": "code",
   "execution_count": 106,
   "metadata": {},
   "outputs": [
    {
     "name": "stdout",
     "output_type": "stream",
     "text": [
      "2.6.0\n",
      "2. Query all tasks\n",
      "(0, 'Tennis Court 1', 5, 25, 10000, 200)\n",
      "(1, 'Tennis Court 2', 5, 25, 8000, 200)\n",
      "(2, 'Badminton Court', 0, 15.5, 4000, 50)\n",
      "(3, 'Table Tennis', 0, 5, 320, 10)\n",
      "(4, 'Massage Room 1', 9.9, 80, 4000, 3000)\n",
      "(5, 'Massage Room 2', 9.9, 80, 4000, 3000)\n",
      "(6, 'Squash Court', 3.5, 17.5, 5000, 80)\n",
      "(7, 'Snooker Table', 0, 5, 450, 15)\n",
      "(8, 'Pool Table', 0, 5, 400, 15)\n"
     ]
    }
   ],
   "source": [
    "''' Test case'''\n",
    "query = \"\"\"\n",
    "SELECT *\n",
    "FROM FACILITIES\n",
    "\"\"\"\n",
    "main(query)"
   ]
  },
  {
   "cell_type": "code",
   "execution_count": 107,
   "metadata": {},
   "outputs": [
    {
     "name": "stdout",
     "output_type": "stream",
     "text": [
      "2.6.0\n",
      "2. Query all tasks\n",
      "('Table Tennis', 180)\n",
      "('Snooker Table', 240)\n",
      "('Pool Table', 270)\n"
     ]
    }
   ],
   "source": [
    "''' Q10: Produce a list of facilities with a total revenue less than 1000.\n",
    "The output of facility name and total revenue, sorted by revenue. Remember\n",
    "that there's a different cost for guests and members! '''\n",
    "\n",
    "query10 = \"\"\"    \n",
    "   SELECT facility, totalrevenue\n",
    "   FROM (SELECT facility, SUM(revenue) AS totalrevenue\n",
    "   FROM (SELECT f.name AS facility,\n",
    "       CASE WHEN b.memid = 0 THEN b.slots*f.guestcost\n",
    "       ELSE b.slots*f.membercost END AS revenue\n",
    "       FROM Bookings AS b\n",
    "       INNER JOIN Facilities as f\n",
    "       ON b.facid = f.facid\n",
    "       INNER JOIN Members as m\n",
    "       ON b.memid = m.memid) AS bookings\n",
    "   GROUP BY facility) AS revenues\n",
    "\n",
    "  WHERE totalrevenue < 1000\n",
    "  ORDER BY totalrevenue \n",
    "   \"\"\"  \n",
    "\n",
    "main(query10)"
   ]
  },
  {
   "cell_type": "code",
   "execution_count": 108,
   "metadata": {},
   "outputs": [
    {
     "name": "stdout",
     "output_type": "stream",
     "text": [
      "2.6.0\n",
      "2. Query all tasks\n",
      "('Bader Florence', 'Stibbons Ponder')\n",
      "('Baker Anne', 'Stibbons Ponder')\n",
      "('Baker Timothy', 'Farrell Jemima')\n",
      "('Boothe Tim', 'Rownam Tim')\n",
      "('Butters Gerald', 'Smith Darren')\n",
      "('Coplin Joan', 'Baker Timothy')\n",
      "('Crumpet Erica', 'Smith Tracy')\n",
      "('Dare Nancy', 'Joplette Janice')\n",
      "('Genting Matthew', 'Butters Gerald')\n",
      "('Hunt John', 'Purview Millicent')\n",
      "('Jones David', 'Joplette Janice')\n",
      "('Jones Douglas', 'Jones David')\n",
      "('Joplette Janice', 'Smith Darren')\n",
      "('Mackenzie Anna', 'Smith Darren')\n",
      "('Owen Charles', 'Smith Darren')\n",
      "('Pinker David', 'Farrell Jemima')\n",
      "('Purview Millicent', 'Smith Tracy')\n",
      "('Rumney Henrietta', 'Genting Matthew')\n",
      "('Sarwin Ramnaresh', 'Bader Florence')\n",
      "('Smith Jack', 'Smith Darren')\n",
      "('Stibbons Ponder', 'Tracy Burton')\n",
      "('Worthington-Smyth Henry', 'Smith Tracy')\n"
     ]
    }
   ],
   "source": [
    "''' Q11: Produce a report of members and who recommended them in alphabetic\n",
    "surname,firstname order '''\n",
    "\n",
    "query11 = \"\"\"    \n",
    "SELECT s.member AS member, m.surname || ' ' || m.firstname as recommendedby\n",
    "FROM Members as m\n",
    "INNER JOIN (\n",
    " SELECT surname || ' ' || firstname as member, recommendedby AS memid\n",
    " FROM Members\n",
    " WHERE recommendedby >=1 ) AS s\n",
    "ON m.memid = s.memid\n",
    "ORDER BY member, recommendedby\n",
    "\"\"\"\n",
    "main(query11)"
   ]
  },
  {
   "cell_type": "code",
   "execution_count": 109,
   "metadata": {},
   "outputs": [
    {
     "name": "stdout",
     "output_type": "stream",
     "text": [
      "2.6.0\n",
      "2. Query all tasks\n",
      "('Tennis Court 1', 478.5)\n",
      "('Tennis Court 2', 441.0)\n",
      "('Badminton Court', 543.0)\n",
      "('Table Tennis', 397.0)\n",
      "('Massage Room 1', 442.0)\n",
      "('Massage Room 2', 27.0)\n",
      "('Squash Court', 209.0)\n",
      "('Snooker Table', 430.0)\n",
      "('Pool Table', 428.0)\n"
     ]
    }
   ],
   "source": [
    "''' Q12: Find the facilities with their usage by member, but not guests '''\n",
    "\n",
    "query12 = \"\"\"    \n",
    "SELECT f.name AS facility, s.totalhours AS totalhoursusage\n",
    "FROM Facilities AS f\n",
    "INNER JOIN (\n",
    " SELECT facid, ROUND(SUM(slots)/2.0, 2) AS totalhours\n",
    " FROM Bookings\n",
    " WHERE memid != 0 \n",
    " GROUP BY facid ) AS s\n",
    "ON f.facid = s.facid\n",
    "   \"\"\"\n",
    "main(query12)"
   ]
  },
  {
   "cell_type": "code",
   "execution_count": 110,
   "metadata": {},
   "outputs": [
    {
     "name": "stdout",
     "output_type": "stream",
     "text": [
      "2.6.0\n",
      "2. Query all tasks\n",
      "('Tennis Court 1', '07', 100.0)\n",
      "('Tennis Court 1', '08', 169.0)\n",
      "('Tennis Court 1', '09', 208.0)\n",
      "('Tennis Court 2', '07', 61.0)\n",
      "('Tennis Court 2', '08', 172.0)\n",
      "('Tennis Court 2', '09', 207.0)\n",
      "('Badminton Court', '07', 82.0)\n",
      "('Badminton Court', '08', 207.0)\n",
      "('Badminton Court', '09', 253.0)\n",
      "('Table Tennis', '07', 49.0)\n",
      "('Table Tennis', '08', 148.0)\n",
      "('Table Tennis', '09', 200.0)\n",
      "('Massage Room 1', '07', 83.0)\n",
      "('Massage Room 1', '08', 158.0)\n",
      "('Massage Room 1', '09', 201.0)\n",
      "('Massage Room 2', '07', 4.0)\n",
      "('Massage Room 2', '08', 9.0)\n",
      "('Massage Room 2', '09', 14.0)\n",
      "('Squash Court', '07', 25.0)\n",
      "('Squash Court', '08', 92.0)\n",
      "('Squash Court', '09', 92.0)\n",
      "('Snooker Table', '07', 70.0)\n",
      "('Snooker Table', '08', 158.0)\n",
      "('Snooker Table', '09', 202.0)\n",
      "('Pool Table', '07', 55.0)\n",
      "('Pool Table', '08', 151.0)\n",
      "('Pool Table', '09', 221.0)\n"
     ]
    }
   ],
   "source": [
    "''' Q13: Find the facilities usage by month, but not guests  '''\n",
    "\n",
    "query13 = \"\"\"    \n",
    "SELECT f.name AS facilities, s.month AS month, s.totalhours AS totalhoursusage\n",
    "FROM Facilities AS f\n",
    "INNER JOIN (\n",
    " SELECT facid, strftime('%m', starttime) AS month, \n",
    " ROUND(SUM(slots)/2, 2) AS totalhours\n",
    " FROM Bookings\n",
    " WHERE memid != 0 \n",
    " GROUP BY facid, month\n",
    " ORDER BY facid ) AS s\n",
    "ON f.facid = s.facid\n",
    "   \"\"\"\n",
    "main(query13)"
   ]
  },
  {
   "cell_type": "code",
   "execution_count": null,
   "metadata": {},
   "outputs": [],
   "source": []
  }
 ],
 "metadata": {
  "kernelspec": {
   "display_name": "Python 3",
   "language": "python",
   "name": "python3"
  },
  "language_info": {
   "codemirror_mode": {
    "name": "ipython",
    "version": 3
   },
   "file_extension": ".py",
   "mimetype": "text/x-python",
   "name": "python",
   "nbconvert_exporter": "python",
   "pygments_lexer": "ipython3",
   "version": "3.7.6"
  }
 },
 "nbformat": 4,
 "nbformat_minor": 4
}
