{
 "cells": [
  {
   "cell_type": "markdown",
   "metadata": {},
   "source": [
    "# Project: Building a Better Forecast Model for Apple’s Stock Price Prediction"
   ]
  },
  {
   "cell_type": "markdown",
   "metadata": {},
   "source": [
    "# 1. Data Science Problem\n",
    "\n",
    "This project aims to build a better forecast model to predict Apple stock prices."
   ]
  },
  {
   "cell_type": "markdown",
   "metadata": {},
   "source": [
    "# 2. Data Wrangling"
   ]
  },
  {
   "cell_type": "markdown",
   "metadata": {},
   "source": [
    "## Data Source\n",
    "\n",
    "Load csv files consist of dividend,earnings,stockprice and summary data down loaded from Kaggle data [https://www.kaggle.com/tsaustin/us-historical-stock-prices-with-earnings-data?select=stocks_latest]"
   ]
  },
  {
   "cell_type": "markdown",
   "metadata": {},
   "source": [
    "## Import Libraries "
   ]
  },
  {
   "cell_type": "code",
   "execution_count": 1,
   "metadata": {},
   "outputs": [],
   "source": [
    "import pandas as pd\n",
    "import numpy as np\n",
    "import seaborn as sns\n",
    "# To switch to seaborn defaults, simply call the set_theme() function.\n",
    "sns.set_theme()\n",
    "import matplotlib.pyplot as plt\n",
    "%matplotlib inline\n",
    "import os\n",
    "\n",
    "import datetime\n",
    "from datetime import datetime, timedelta\n",
    "\n",
    "import warnings # to ignore warning message\n",
    "warnings.filterwarnings('ignore')"
   ]
  },
  {
   "cell_type": "markdown",
   "metadata": {},
   "source": [
    "## Data Loading"
   ]
  },
  {
   "cell_type": "code",
   "execution_count": 2,
   "metadata": {
    "scrolled": true
   },
   "outputs": [],
   "source": [
    "# load data\n",
    "dividend_df = pd.read_csv('data/stocks_latest/dividends_latest.csv')\n",
    "earning_df = pd.read_csv('data/stocks_latest/earnings_latest.csv')\n",
    "stockprice_df = pd.read_csv('data/stocks_latest/stock_prices_latest.csv')\n",
    "summary_df = pd.read_csv('data/stocks_latest/dataset_summary.csv')"
   ]
  },
  {
   "cell_type": "code",
   "execution_count": 3,
   "metadata": {},
   "outputs": [
    {
     "data": {
      "text/html": [
       "<div>\n",
       "<style scoped>\n",
       "    .dataframe tbody tr th:only-of-type {\n",
       "        vertical-align: middle;\n",
       "    }\n",
       "\n",
       "    .dataframe tbody tr th {\n",
       "        vertical-align: top;\n",
       "    }\n",
       "\n",
       "    .dataframe thead th {\n",
       "        text-align: right;\n",
       "    }\n",
       "</style>\n",
       "<table border=\"1\" class=\"dataframe\">\n",
       "  <thead>\n",
       "    <tr style=\"text-align: right;\">\n",
       "      <th></th>\n",
       "      <th>symbol</th>\n",
       "      <th>date</th>\n",
       "      <th>dividend</th>\n",
       "    </tr>\n",
       "  </thead>\n",
       "  <tbody>\n",
       "    <tr>\n",
       "      <th>0</th>\n",
       "      <td>MSFT</td>\n",
       "      <td>2016-11-15</td>\n",
       "      <td>0.39</td>\n",
       "    </tr>\n",
       "    <tr>\n",
       "      <th>1</th>\n",
       "      <td>MSFT</td>\n",
       "      <td>2011-05-17</td>\n",
       "      <td>0.16</td>\n",
       "    </tr>\n",
       "    <tr>\n",
       "      <th>2</th>\n",
       "      <td>MSFT</td>\n",
       "      <td>2008-05-13</td>\n",
       "      <td>0.11</td>\n",
       "    </tr>\n",
       "    <tr>\n",
       "      <th>3</th>\n",
       "      <td>MSFT</td>\n",
       "      <td>2011-02-15</td>\n",
       "      <td>0.16</td>\n",
       "    </tr>\n",
       "    <tr>\n",
       "      <th>4</th>\n",
       "      <td>MSFT</td>\n",
       "      <td>2012-02-14</td>\n",
       "      <td>0.20</td>\n",
       "    </tr>\n",
       "  </tbody>\n",
       "</table>\n",
       "</div>"
      ],
      "text/plain": [
       "  symbol        date  dividend\n",
       "0   MSFT  2016-11-15      0.39\n",
       "1   MSFT  2011-05-17      0.16\n",
       "2   MSFT  2008-05-13      0.11\n",
       "3   MSFT  2011-02-15      0.16\n",
       "4   MSFT  2012-02-14      0.20"
      ]
     },
     "execution_count": 3,
     "metadata": {},
     "output_type": "execute_result"
    }
   ],
   "source": [
    "dividend_df.head(5)"
   ]
  },
  {
   "cell_type": "code",
   "execution_count": 4,
   "metadata": {},
   "outputs": [
    {
     "data": {
      "text/plain": [
       "(258917, 3)"
      ]
     },
     "execution_count": 4,
     "metadata": {},
     "output_type": "execute_result"
    }
   ],
   "source": [
    "dividend_df.shape"
   ]
  },
  {
   "cell_type": "code",
   "execution_count": 5,
   "metadata": {},
   "outputs": [
    {
     "data": {
      "text/html": [
       "<div>\n",
       "<style scoped>\n",
       "    .dataframe tbody tr th:only-of-type {\n",
       "        vertical-align: middle;\n",
       "    }\n",
       "\n",
       "    .dataframe tbody tr th {\n",
       "        vertical-align: top;\n",
       "    }\n",
       "\n",
       "    .dataframe thead th {\n",
       "        text-align: right;\n",
       "    }\n",
       "</style>\n",
       "<table border=\"1\" class=\"dataframe\">\n",
       "  <thead>\n",
       "    <tr style=\"text-align: right;\">\n",
       "      <th></th>\n",
       "      <th>symbol</th>\n",
       "      <th>date</th>\n",
       "      <th>qtr</th>\n",
       "      <th>eps_est</th>\n",
       "      <th>eps</th>\n",
       "      <th>release_time</th>\n",
       "    </tr>\n",
       "  </thead>\n",
       "  <tbody>\n",
       "    <tr>\n",
       "      <th>0</th>\n",
       "      <td>A</td>\n",
       "      <td>2009-05-14</td>\n",
       "      <td>04/2009</td>\n",
       "      <td>NaN</td>\n",
       "      <td>NaN</td>\n",
       "      <td>post</td>\n",
       "    </tr>\n",
       "    <tr>\n",
       "      <th>1</th>\n",
       "      <td>A</td>\n",
       "      <td>2009-08-17</td>\n",
       "      <td>07/2009</td>\n",
       "      <td>NaN</td>\n",
       "      <td>NaN</td>\n",
       "      <td>post</td>\n",
       "    </tr>\n",
       "    <tr>\n",
       "      <th>2</th>\n",
       "      <td>A</td>\n",
       "      <td>2009-11-13</td>\n",
       "      <td>10/2009</td>\n",
       "      <td>NaN</td>\n",
       "      <td>NaN</td>\n",
       "      <td>pre</td>\n",
       "    </tr>\n",
       "    <tr>\n",
       "      <th>3</th>\n",
       "      <td>A</td>\n",
       "      <td>2010-02-12</td>\n",
       "      <td>01/2010</td>\n",
       "      <td>NaN</td>\n",
       "      <td>NaN</td>\n",
       "      <td>pre</td>\n",
       "    </tr>\n",
       "    <tr>\n",
       "      <th>4</th>\n",
       "      <td>A</td>\n",
       "      <td>2010-05-17</td>\n",
       "      <td>04/2010</td>\n",
       "      <td>NaN</td>\n",
       "      <td>NaN</td>\n",
       "      <td>post</td>\n",
       "    </tr>\n",
       "  </tbody>\n",
       "</table>\n",
       "</div>"
      ],
      "text/plain": [
       "  symbol        date      qtr  eps_est  eps release_time\n",
       "0      A  2009-05-14  04/2009      NaN  NaN         post\n",
       "1      A  2009-08-17  07/2009      NaN  NaN         post\n",
       "2      A  2009-11-13  10/2009      NaN  NaN          pre\n",
       "3      A  2010-02-12  01/2010      NaN  NaN          pre\n",
       "4      A  2010-05-17  04/2010      NaN  NaN         post"
      ]
     },
     "execution_count": 5,
     "metadata": {},
     "output_type": "execute_result"
    }
   ],
   "source": [
    "earning_df.head(5)"
   ]
  },
  {
   "cell_type": "code",
   "execution_count": 6,
   "metadata": {},
   "outputs": [
    {
     "data": {
      "text/plain": [
       "(168603, 6)"
      ]
     },
     "execution_count": 6,
     "metadata": {},
     "output_type": "execute_result"
    }
   ],
   "source": [
    "earning_df.shape"
   ]
  },
  {
   "cell_type": "code",
   "execution_count": 7,
   "metadata": {},
   "outputs": [
    {
     "data": {
      "text/html": [
       "<div>\n",
       "<style scoped>\n",
       "    .dataframe tbody tr th:only-of-type {\n",
       "        vertical-align: middle;\n",
       "    }\n",
       "\n",
       "    .dataframe tbody tr th {\n",
       "        vertical-align: top;\n",
       "    }\n",
       "\n",
       "    .dataframe thead th {\n",
       "        text-align: right;\n",
       "    }\n",
       "</style>\n",
       "<table border=\"1\" class=\"dataframe\">\n",
       "  <thead>\n",
       "    <tr style=\"text-align: right;\">\n",
       "      <th></th>\n",
       "      <th>symbol</th>\n",
       "      <th>date</th>\n",
       "      <th>open</th>\n",
       "      <th>high</th>\n",
       "      <th>low</th>\n",
       "      <th>close</th>\n",
       "      <th>close_adjusted</th>\n",
       "      <th>volume</th>\n",
       "      <th>split_coefficient</th>\n",
       "    </tr>\n",
       "  </thead>\n",
       "  <tbody>\n",
       "    <tr>\n",
       "      <th>0</th>\n",
       "      <td>MSFT</td>\n",
       "      <td>2016-05-16</td>\n",
       "      <td>50.80</td>\n",
       "      <td>51.96</td>\n",
       "      <td>50.75</td>\n",
       "      <td>51.83</td>\n",
       "      <td>49.7013</td>\n",
       "      <td>20032017</td>\n",
       "      <td>1.0</td>\n",
       "    </tr>\n",
       "    <tr>\n",
       "      <th>1</th>\n",
       "      <td>MSFT</td>\n",
       "      <td>2002-01-16</td>\n",
       "      <td>68.85</td>\n",
       "      <td>69.84</td>\n",
       "      <td>67.85</td>\n",
       "      <td>67.87</td>\n",
       "      <td>22.5902</td>\n",
       "      <td>30977700</td>\n",
       "      <td>1.0</td>\n",
       "    </tr>\n",
       "    <tr>\n",
       "      <th>2</th>\n",
       "      <td>MSFT</td>\n",
       "      <td>2001-09-18</td>\n",
       "      <td>53.41</td>\n",
       "      <td>55.00</td>\n",
       "      <td>53.17</td>\n",
       "      <td>54.32</td>\n",
       "      <td>18.0802</td>\n",
       "      <td>41591300</td>\n",
       "      <td>1.0</td>\n",
       "    </tr>\n",
       "    <tr>\n",
       "      <th>3</th>\n",
       "      <td>MSFT</td>\n",
       "      <td>2007-10-26</td>\n",
       "      <td>36.01</td>\n",
       "      <td>36.03</td>\n",
       "      <td>34.56</td>\n",
       "      <td>35.03</td>\n",
       "      <td>27.2232</td>\n",
       "      <td>288121200</td>\n",
       "      <td>1.0</td>\n",
       "    </tr>\n",
       "    <tr>\n",
       "      <th>4</th>\n",
       "      <td>MSFT</td>\n",
       "      <td>2014-06-27</td>\n",
       "      <td>41.61</td>\n",
       "      <td>42.29</td>\n",
       "      <td>41.51</td>\n",
       "      <td>42.25</td>\n",
       "      <td>38.6773</td>\n",
       "      <td>74640000</td>\n",
       "      <td>1.0</td>\n",
       "    </tr>\n",
       "  </tbody>\n",
       "</table>\n",
       "</div>"
      ],
      "text/plain": [
       "  symbol        date   open   high    low  close  close_adjusted     volume  \\\n",
       "0   MSFT  2016-05-16  50.80  51.96  50.75  51.83         49.7013   20032017   \n",
       "1   MSFT  2002-01-16  68.85  69.84  67.85  67.87         22.5902   30977700   \n",
       "2   MSFT  2001-09-18  53.41  55.00  53.17  54.32         18.0802   41591300   \n",
       "3   MSFT  2007-10-26  36.01  36.03  34.56  35.03         27.2232  288121200   \n",
       "4   MSFT  2014-06-27  41.61  42.29  41.51  42.25         38.6773   74640000   \n",
       "\n",
       "   split_coefficient  \n",
       "0                1.0  \n",
       "1                1.0  \n",
       "2                1.0  \n",
       "3                1.0  \n",
       "4                1.0  "
      ]
     },
     "execution_count": 7,
     "metadata": {},
     "output_type": "execute_result"
    }
   ],
   "source": [
    "stockprice_df.head(5)"
   ]
  },
  {
   "cell_type": "code",
   "execution_count": 8,
   "metadata": {},
   "outputs": [
    {
     "data": {
      "text/plain": [
       "(24395016, 9)"
      ]
     },
     "execution_count": 8,
     "metadata": {},
     "output_type": "execute_result"
    }
   ],
   "source": [
    "stockprice_df.shape"
   ]
  },
  {
   "cell_type": "code",
   "execution_count": 9,
   "metadata": {},
   "outputs": [
    {
     "data": {
      "text/html": [
       "<div>\n",
       "<style scoped>\n",
       "    .dataframe tbody tr th:only-of-type {\n",
       "        vertical-align: middle;\n",
       "    }\n",
       "\n",
       "    .dataframe tbody tr th {\n",
       "        vertical-align: top;\n",
       "    }\n",
       "\n",
       "    .dataframe thead th {\n",
       "        text-align: right;\n",
       "    }\n",
       "</style>\n",
       "<table border=\"1\" class=\"dataframe\">\n",
       "  <thead>\n",
       "    <tr style=\"text-align: right;\">\n",
       "      <th></th>\n",
       "      <th>symbol</th>\n",
       "      <th>total_prices</th>\n",
       "      <th>stock_from_date</th>\n",
       "      <th>stock_to_date</th>\n",
       "      <th>total_earnings</th>\n",
       "      <th>earnings_from_date</th>\n",
       "      <th>earnings_to_date</th>\n",
       "    </tr>\n",
       "  </thead>\n",
       "  <tbody>\n",
       "    <tr>\n",
       "      <th>0</th>\n",
       "      <td>A</td>\n",
       "      <td>5418</td>\n",
       "      <td>1999-11-18</td>\n",
       "      <td>2021-06-02</td>\n",
       "      <td>49</td>\n",
       "      <td>2009-05-14</td>\n",
       "      <td>2021-05-25</td>\n",
       "    </tr>\n",
       "    <tr>\n",
       "      <th>1</th>\n",
       "      <td>AA</td>\n",
       "      <td>1153</td>\n",
       "      <td>2016-11-01</td>\n",
       "      <td>2021-06-02</td>\n",
       "      <td>18</td>\n",
       "      <td>2017-01-24</td>\n",
       "      <td>2021-04-15</td>\n",
       "    </tr>\n",
       "    <tr>\n",
       "      <th>2</th>\n",
       "      <td>AAAP</td>\n",
       "      <td>574</td>\n",
       "      <td>2015-11-11</td>\n",
       "      <td>2018-07-18</td>\n",
       "      <td>0</td>\n",
       "      <td>NaN</td>\n",
       "      <td>NaN</td>\n",
       "    </tr>\n",
       "    <tr>\n",
       "      <th>3</th>\n",
       "      <td>AABA</td>\n",
       "      <td>5486</td>\n",
       "      <td>1998-01-02</td>\n",
       "      <td>2020-03-10</td>\n",
       "      <td>14</td>\n",
       "      <td>2014-01-28</td>\n",
       "      <td>2017-04-18</td>\n",
       "    </tr>\n",
       "    <tr>\n",
       "      <th>4</th>\n",
       "      <td>AAC</td>\n",
       "      <td>1342</td>\n",
       "      <td>2014-10-02</td>\n",
       "      <td>2021-06-02</td>\n",
       "      <td>22</td>\n",
       "      <td>2014-11-05</td>\n",
       "      <td>2019-08-30</td>\n",
       "    </tr>\n",
       "  </tbody>\n",
       "</table>\n",
       "</div>"
      ],
      "text/plain": [
       "  symbol  total_prices stock_from_date stock_to_date  total_earnings  \\\n",
       "0      A          5418      1999-11-18    2021-06-02              49   \n",
       "1     AA          1153      2016-11-01    2021-06-02              18   \n",
       "2   AAAP           574      2015-11-11    2018-07-18               0   \n",
       "3   AABA          5486      1998-01-02    2020-03-10              14   \n",
       "4    AAC          1342      2014-10-02    2021-06-02              22   \n",
       "\n",
       "  earnings_from_date earnings_to_date  \n",
       "0         2009-05-14       2021-05-25  \n",
       "1         2017-01-24       2021-04-15  \n",
       "2                NaN              NaN  \n",
       "3         2014-01-28       2017-04-18  \n",
       "4         2014-11-05       2019-08-30  "
      ]
     },
     "execution_count": 9,
     "metadata": {},
     "output_type": "execute_result"
    }
   ],
   "source": [
    "summary_df.head()"
   ]
  },
  {
   "cell_type": "code",
   "execution_count": 10,
   "metadata": {},
   "outputs": [
    {
     "data": {
      "text/plain": [
       "(7786, 7)"
      ]
     },
     "execution_count": 10,
     "metadata": {},
     "output_type": "execute_result"
    }
   ],
   "source": [
    "summary_df.shape"
   ]
  },
  {
   "cell_type": "markdown",
   "metadata": {},
   "source": [
    "## Data Organization\n",
    "\n",
    "Create subfolders running the lines below to organize project directory \n",
    "- os.makedirs('figures/')\n",
    "- os.makedirs('results/')"
   ]
  },
  {
   "cell_type": "code",
   "execution_count": 11,
   "metadata": {},
   "outputs": [
    {
     "name": "stdout",
     "output_type": "stream",
     "text": [
      "['.ipynb_checkpoints', 'data', 'Data_Information.docx', 'figures', 'models', 'references', 'results', 'Stock_Price_Prediction.ipynb']\n"
     ]
    }
   ],
   "source": [
    "print(os.listdir())"
   ]
  },
  {
   "cell_type": "markdown",
   "metadata": {},
   "source": [
    "## Data Description"
   ]
  },
  {
   "cell_type": "markdown",
   "metadata": {},
   "source": [
    "### Dividend dataframe columns description\n",
    "\n",
    "- **symbol:** symbol of a company under which it operates in stock market \n",
    "- **date:** dividend issue date for a share\n",
    "- **dividend:** proportion of dividend issued"
   ]
  },
  {
   "cell_type": "markdown",
   "metadata": {},
   "source": [
    "### Earning dataframe columns description\n",
    "\n",
    "- **symbol:** symbol of a company under which it operates in stock market\n",
    "- **date:** earning issue date\n",
    "- **qtr:** the month and quarter (Q1, Q2, Q3 and Q4) of the year the earning was declared\n",
    "- **eps_est:** estimated eps (earning per share)\n",
    "- **eps:** exact eps\n",
    "- **release_time** earning issue date before or after the declaration date"
   ]
  },
  {
   "cell_type": "markdown",
   "metadata": {},
   "source": [
    "### Stockprice dataframe columns description\n",
    "\n",
    "- **symbol:** symbol of a company under which it operates in stock market\n",
    "- **date:**\ttrading day of the year\n",
    "- **open:**\topening price in a day\n",
    "- **high:**\thigh price for a particular day\n",
    "- **low:**\tlow price in a day\n",
    "- **close:** closing price for a day\n",
    "- **close_adjusted:** amended price that truly reflects stocks value after any corporate actions\n",
    "- **volume:** total volume traded in a day\n",
    "- **split_coefficient:**\tthe ratio by which a firms outstanding share increases following a stock split. Higher is the 'stock split' reduced the price would be"
   ]
  },
  {
   "cell_type": "markdown",
   "metadata": {},
   "source": [
    "### Summary dataframe columns description\n",
    "\n",
    "- **symbol:** symbol of a company under which it operates in stock market\n",
    "- **total_prices:**\tprice change of the company in the specified duration\n",
    "- **stock_from_date:** counting start date\n",
    "- **stock_to_date:** counting stop date\n",
    "- **total_earnings:** total earning of the company in the specified time\n",
    "- **earnings_from_date:** the date from when earning count started\n",
    "- **earnings_to_date:**\tthe date from when earning count stopped"
   ]
  },
  {
   "cell_type": "markdown",
   "metadata": {},
   "source": [
    "## Data Revision\n",
    "\n",
    "This step involves reviewing data types, column names, and unique values"
   ]
  },
  {
   "cell_type": "markdown",
   "metadata": {},
   "source": [
    "### Data Types"
   ]
  },
  {
   "cell_type": "code",
   "execution_count": 12,
   "metadata": {},
   "outputs": [
    {
     "name": "stdout",
     "output_type": "stream",
     "text": [
      "<class 'pandas.core.frame.DataFrame'>\n",
      "RangeIndex: 258917 entries, 0 to 258916\n",
      "Data columns (total 3 columns):\n",
      " #   Column    Non-Null Count   Dtype  \n",
      "---  ------    --------------   -----  \n",
      " 0   symbol    258917 non-null  object \n",
      " 1   date      258917 non-null  object \n",
      " 2   dividend  258917 non-null  float64\n",
      "dtypes: float64(1), object(2)\n",
      "memory usage: 5.9+ MB\n",
      "\n",
      "dividend data type information: \n",
      " None\n",
      "<class 'pandas.core.frame.DataFrame'>\n",
      "RangeIndex: 168603 entries, 0 to 168602\n",
      "Data columns (total 6 columns):\n",
      " #   Column        Non-Null Count   Dtype  \n",
      "---  ------        --------------   -----  \n",
      " 0   symbol        168603 non-null  object \n",
      " 1   date          168603 non-null  object \n",
      " 2   qtr           167599 non-null  object \n",
      " 3   eps_est       111347 non-null  float64\n",
      " 4   eps           136216 non-null  float64\n",
      " 5   release_time  108400 non-null  object \n",
      "dtypes: float64(2), object(4)\n",
      "memory usage: 7.7+ MB\n",
      "\n",
      "earning data type information: \n",
      " None\n",
      "<class 'pandas.core.frame.DataFrame'>\n",
      "RangeIndex: 24395016 entries, 0 to 24395015\n",
      "Data columns (total 9 columns):\n",
      " #   Column             Dtype  \n",
      "---  ------             -----  \n",
      " 0   symbol             object \n",
      " 1   date               object \n",
      " 2   open               float64\n",
      " 3   high               float64\n",
      " 4   low                float64\n",
      " 5   close              float64\n",
      " 6   close_adjusted     float64\n",
      " 7   volume             int64  \n",
      " 8   split_coefficient  float64\n",
      "dtypes: float64(6), int64(1), object(2)\n",
      "memory usage: 1.6+ GB\n",
      "\n",
      "stock price data type information: \n",
      " None\n",
      "<class 'pandas.core.frame.DataFrame'>\n",
      "RangeIndex: 7786 entries, 0 to 7785\n",
      "Data columns (total 7 columns):\n",
      " #   Column              Non-Null Count  Dtype \n",
      "---  ------              --------------  ----- \n",
      " 0   symbol              7786 non-null   object\n",
      " 1   total_prices        7786 non-null   int64 \n",
      " 2   stock_from_date     7786 non-null   object\n",
      " 3   stock_to_date       7786 non-null   object\n",
      " 4   total_earnings      7786 non-null   int64 \n",
      " 5   earnings_from_date  5187 non-null   object\n",
      " 6   earnings_to_date    5187 non-null   object\n",
      "dtypes: int64(2), object(5)\n",
      "memory usage: 425.9+ KB\n",
      "\n",
      "summary data type information: \n",
      " None\n"
     ]
    }
   ],
   "source": [
    "print('\\ndividend data type information: \\n', dividend_df.info())\n",
    "print('\\nearning data type information: \\n', earning_df.info())\n",
    "print('\\nstock price data type information: \\n', stockprice_df.info())\n",
    "print('\\nsummary data type information: \\n', summary_df.info())"
   ]
  },
  {
   "cell_type": "code",
   "execution_count": 13,
   "metadata": {},
   "outputs": [
    {
     "name": "stdout",
     "output_type": "stream",
     "text": [
      "<class 'pandas.core.frame.DataFrame'>\n",
      "RangeIndex: 7786 entries, 0 to 7785\n",
      "Data columns (total 7 columns):\n",
      " #   Column              Non-Null Count  Dtype \n",
      "---  ------              --------------  ----- \n",
      " 0   symbol              7786 non-null   object\n",
      " 1   total_prices        7786 non-null   int64 \n",
      " 2   stock_from_date     7786 non-null   object\n",
      " 3   stock_to_date       7786 non-null   object\n",
      " 4   total_earnings      7786 non-null   int64 \n",
      " 5   earnings_from_date  5187 non-null   object\n",
      " 6   earnings_to_date    5187 non-null   object\n",
      "dtypes: int64(2), object(5)\n",
      "memory usage: 425.9+ KB\n"
     ]
    }
   ],
   "source": [
    "summary_df.info()"
   ]
  },
  {
   "cell_type": "markdown",
   "metadata": {},
   "source": [
    "### Column Names"
   ]
  },
  {
   "cell_type": "code",
   "execution_count": 14,
   "metadata": {},
   "outputs": [
    {
     "name": "stdout",
     "output_type": "stream",
     "text": [
      "\n",
      "dividend columns: \n",
      " Index(['symbol', 'date', 'dividend'], dtype='object')\n",
      "\n",
      "earning columns: \n",
      " Index(['symbol', 'date', 'qtr', 'eps_est', 'eps', 'release_time'], dtype='object')\n",
      "\n",
      "stock price columns: \n",
      " Index(['symbol', 'date', 'open', 'high', 'low', 'close', 'close_adjusted',\n",
      "       'volume', 'split_coefficient'],\n",
      "      dtype='object')\n",
      "\n",
      "summary columns: \n",
      " Index(['symbol', 'total_prices', 'stock_from_date', 'stock_to_date',\n",
      "       'total_earnings', 'earnings_from_date', 'earnings_to_date'],\n",
      "      dtype='object')\n"
     ]
    }
   ],
   "source": [
    "print('\\ndividend columns: \\n', dividend_df.columns)\n",
    "print('\\nearning columns: \\n', earning_df.columns)\n",
    "print('\\nstock price columns: \\n', stockprice_df.columns)\n",
    "print('\\nsummary columns: \\n', summary_df.columns)"
   ]
  },
  {
   "cell_type": "markdown",
   "metadata": {},
   "source": [
    "### Unique Values\n",
    "\n",
    "DataFrame.nunique(axis=0, dropna=True): Count number of distinct elements in specified axis."
   ]
  },
  {
   "cell_type": "code",
   "execution_count": 15,
   "metadata": {},
   "outputs": [
    {
     "data": {
      "text/html": [
       "<div>\n",
       "<style scoped>\n",
       "    .dataframe tbody tr th:only-of-type {\n",
       "        vertical-align: middle;\n",
       "    }\n",
       "\n",
       "    .dataframe tbody tr th {\n",
       "        vertical-align: top;\n",
       "    }\n",
       "\n",
       "    .dataframe thead th {\n",
       "        text-align: right;\n",
       "    }\n",
       "</style>\n",
       "<table border=\"1\" class=\"dataframe\">\n",
       "  <thead>\n",
       "    <tr style=\"text-align: right;\">\n",
       "      <th></th>\n",
       "      <th>unique_count</th>\n",
       "      <th>%unique_count</th>\n",
       "    </tr>\n",
       "  </thead>\n",
       "  <tbody>\n",
       "    <tr>\n",
       "      <th>symbol</th>\n",
       "      <td>4442</td>\n",
       "      <td>1.72</td>\n",
       "    </tr>\n",
       "    <tr>\n",
       "      <th>date</th>\n",
       "      <td>5868</td>\n",
       "      <td>2.27</td>\n",
       "    </tr>\n",
       "    <tr>\n",
       "      <th>dividend</th>\n",
       "      <td>8412</td>\n",
       "      <td>3.25</td>\n",
       "    </tr>\n",
       "  </tbody>\n",
       "</table>\n",
       "</div>"
      ],
      "text/plain": [
       "          unique_count  %unique_count\n",
       "symbol            4442           1.72\n",
       "date              5868           2.27\n",
       "dividend          8412           3.25"
      ]
     },
     "execution_count": 15,
     "metadata": {},
     "output_type": "execute_result"
    }
   ],
   "source": [
    "dividend_nunique = pd.DataFrame(dividend_df.nunique(), columns=['unique_count'])\n",
    "dividend_nunique['%unique_count'] =  round(dividend_df.nunique()/(dividend_df.count())*100, 2)\n",
    "dividend_nunique"
   ]
  },
  {
   "cell_type": "code",
   "execution_count": 16,
   "metadata": {},
   "outputs": [
    {
     "data": {
      "text/html": [
       "<div>\n",
       "<style scoped>\n",
       "    .dataframe tbody tr th:only-of-type {\n",
       "        vertical-align: middle;\n",
       "    }\n",
       "\n",
       "    .dataframe tbody tr th {\n",
       "        vertical-align: top;\n",
       "    }\n",
       "\n",
       "    .dataframe thead th {\n",
       "        text-align: right;\n",
       "    }\n",
       "</style>\n",
       "<table border=\"1\" class=\"dataframe\">\n",
       "  <thead>\n",
       "    <tr style=\"text-align: right;\">\n",
       "      <th></th>\n",
       "      <th>unique_count</th>\n",
       "      <th>%unique_count</th>\n",
       "    </tr>\n",
       "  </thead>\n",
       "  <tbody>\n",
       "    <tr>\n",
       "      <th>symbol</th>\n",
       "      <td>5569</td>\n",
       "      <td>3.30</td>\n",
       "    </tr>\n",
       "    <tr>\n",
       "      <th>date</th>\n",
       "      <td>3186</td>\n",
       "      <td>1.89</td>\n",
       "    </tr>\n",
       "    <tr>\n",
       "      <th>qtr</th>\n",
       "      <td>131</td>\n",
       "      <td>0.08</td>\n",
       "    </tr>\n",
       "    <tr>\n",
       "      <th>eps_est</th>\n",
       "      <td>5616</td>\n",
       "      <td>5.04</td>\n",
       "    </tr>\n",
       "    <tr>\n",
       "      <th>eps</th>\n",
       "      <td>2516</td>\n",
       "      <td>1.85</td>\n",
       "    </tr>\n",
       "    <tr>\n",
       "      <th>release_time</th>\n",
       "      <td>2</td>\n",
       "      <td>0.00</td>\n",
       "    </tr>\n",
       "  </tbody>\n",
       "</table>\n",
       "</div>"
      ],
      "text/plain": [
       "              unique_count  %unique_count\n",
       "symbol                5569           3.30\n",
       "date                  3186           1.89\n",
       "qtr                    131           0.08\n",
       "eps_est               5616           5.04\n",
       "eps                   2516           1.85\n",
       "release_time             2           0.00"
      ]
     },
     "execution_count": 16,
     "metadata": {},
     "output_type": "execute_result"
    }
   ],
   "source": [
    "earning_nunique = pd.DataFrame(earning_df.nunique(), columns=['unique_count'])\n",
    "earning_nunique['%unique_count'] =  round(earning_df.nunique()/(earning_df.count())*100, 2)\n",
    "earning_nunique"
   ]
  },
  {
   "cell_type": "code",
   "execution_count": 17,
   "metadata": {},
   "outputs": [
    {
     "data": {
      "text/html": [
       "<div>\n",
       "<style scoped>\n",
       "    .dataframe tbody tr th:only-of-type {\n",
       "        vertical-align: middle;\n",
       "    }\n",
       "\n",
       "    .dataframe tbody tr th {\n",
       "        vertical-align: top;\n",
       "    }\n",
       "\n",
       "    .dataframe thead th {\n",
       "        text-align: right;\n",
       "    }\n",
       "</style>\n",
       "<table border=\"1\" class=\"dataframe\">\n",
       "  <thead>\n",
       "    <tr style=\"text-align: right;\">\n",
       "      <th></th>\n",
       "      <th>unique_count</th>\n",
       "      <th>%unique_count</th>\n",
       "    </tr>\n",
       "  </thead>\n",
       "  <tbody>\n",
       "    <tr>\n",
       "      <th>symbol</th>\n",
       "      <td>7786</td>\n",
       "      <td>0.03</td>\n",
       "    </tr>\n",
       "    <tr>\n",
       "      <th>date</th>\n",
       "      <td>5901</td>\n",
       "      <td>0.02</td>\n",
       "    </tr>\n",
       "    <tr>\n",
       "      <th>open</th>\n",
       "      <td>319413</td>\n",
       "      <td>1.31</td>\n",
       "    </tr>\n",
       "    <tr>\n",
       "      <th>high</th>\n",
       "      <td>557227</td>\n",
       "      <td>2.28</td>\n",
       "    </tr>\n",
       "    <tr>\n",
       "      <th>low</th>\n",
       "      <td>564161</td>\n",
       "      <td>2.31</td>\n",
       "    </tr>\n",
       "    <tr>\n",
       "      <th>close</th>\n",
       "      <td>363354</td>\n",
       "      <td>1.49</td>\n",
       "    </tr>\n",
       "    <tr>\n",
       "      <th>close_adjusted</th>\n",
       "      <td>1280796</td>\n",
       "      <td>5.25</td>\n",
       "    </tr>\n",
       "    <tr>\n",
       "      <th>volume</th>\n",
       "      <td>2805025</td>\n",
       "      <td>11.50</td>\n",
       "    </tr>\n",
       "    <tr>\n",
       "      <th>split_coefficient</th>\n",
       "      <td>308</td>\n",
       "      <td>0.00</td>\n",
       "    </tr>\n",
       "  </tbody>\n",
       "</table>\n",
       "</div>"
      ],
      "text/plain": [
       "                   unique_count  %unique_count\n",
       "symbol                     7786           0.03\n",
       "date                       5901           0.02\n",
       "open                     319413           1.31\n",
       "high                     557227           2.28\n",
       "low                      564161           2.31\n",
       "close                    363354           1.49\n",
       "close_adjusted          1280796           5.25\n",
       "volume                  2805025          11.50\n",
       "split_coefficient           308           0.00"
      ]
     },
     "execution_count": 17,
     "metadata": {},
     "output_type": "execute_result"
    }
   ],
   "source": [
    "stockprice_nunique = pd.DataFrame(stockprice_df.nunique(), columns=['unique_count'])\n",
    "stockprice_nunique['%unique_count'] =  round(stockprice_df.nunique()/(stockprice_df.count())*100, 2)\n",
    "stockprice_nunique"
   ]
  },
  {
   "cell_type": "code",
   "execution_count": 18,
   "metadata": {},
   "outputs": [
    {
     "data": {
      "text/html": [
       "<div>\n",
       "<style scoped>\n",
       "    .dataframe tbody tr th:only-of-type {\n",
       "        vertical-align: middle;\n",
       "    }\n",
       "\n",
       "    .dataframe tbody tr th {\n",
       "        vertical-align: top;\n",
       "    }\n",
       "\n",
       "    .dataframe thead th {\n",
       "        text-align: right;\n",
       "    }\n",
       "</style>\n",
       "<table border=\"1\" class=\"dataframe\">\n",
       "  <thead>\n",
       "    <tr style=\"text-align: right;\">\n",
       "      <th></th>\n",
       "      <th>unique_count</th>\n",
       "      <th>%unique_count</th>\n",
       "    </tr>\n",
       "  </thead>\n",
       "  <tbody>\n",
       "    <tr>\n",
       "      <th>symbol</th>\n",
       "      <td>7786</td>\n",
       "      <td>100.00</td>\n",
       "    </tr>\n",
       "    <tr>\n",
       "      <th>total_prices</th>\n",
       "      <td>3361</td>\n",
       "      <td>43.17</td>\n",
       "    </tr>\n",
       "    <tr>\n",
       "      <th>stock_from_date</th>\n",
       "      <td>2790</td>\n",
       "      <td>35.83</td>\n",
       "    </tr>\n",
       "    <tr>\n",
       "      <th>stock_to_date</th>\n",
       "      <td>572</td>\n",
       "      <td>7.35</td>\n",
       "    </tr>\n",
       "    <tr>\n",
       "      <th>total_earnings</th>\n",
       "      <td>54</td>\n",
       "      <td>0.69</td>\n",
       "    </tr>\n",
       "    <tr>\n",
       "      <th>earnings_from_date</th>\n",
       "      <td>1258</td>\n",
       "      <td>24.25</td>\n",
       "    </tr>\n",
       "    <tr>\n",
       "      <th>earnings_to_date</th>\n",
       "      <td>542</td>\n",
       "      <td>10.45</td>\n",
       "    </tr>\n",
       "  </tbody>\n",
       "</table>\n",
       "</div>"
      ],
      "text/plain": [
       "                    unique_count  %unique_count\n",
       "symbol                      7786         100.00\n",
       "total_prices                3361          43.17\n",
       "stock_from_date             2790          35.83\n",
       "stock_to_date                572           7.35\n",
       "total_earnings                54           0.69\n",
       "earnings_from_date          1258          24.25\n",
       "earnings_to_date             542          10.45"
      ]
     },
     "execution_count": 18,
     "metadata": {},
     "output_type": "execute_result"
    }
   ],
   "source": [
    "summary_nunique = pd.DataFrame(summary_df.nunique(), columns=['unique_count'])\n",
    "summary_nunique['%unique_count'] =  round(summary_df.nunique()/(summary_df.count())*100, 2)\n",
    "summary_nunique"
   ]
  },
  {
   "cell_type": "markdown",
   "metadata": {},
   "source": [
    "## Data Statistical Summary"
   ]
  },
  {
   "cell_type": "markdown",
   "metadata": {},
   "source": [
    "### Dividend Statistical Summary"
   ]
  },
  {
   "cell_type": "code",
   "execution_count": 19,
   "metadata": {},
   "outputs": [
    {
     "name": "stdout",
     "output_type": "stream",
     "text": [
      "            dividend\n",
      "count  258917.000000\n",
      "mean        0.247393\n",
      "std         2.215949\n",
      "min         0.000100\n",
      "25%         0.065000\n",
      "50%         0.120000\n",
      "75%         0.250000\n",
      "max       625.000000\n"
     ]
    }
   ],
   "source": [
    "print(dividend_df.describe())"
   ]
  },
  {
   "cell_type": "markdown",
   "metadata": {},
   "source": [
    "### Earning Statistical Summary"
   ]
  },
  {
   "cell_type": "code",
   "execution_count": 20,
   "metadata": {},
   "outputs": [
    {
     "name": "stdout",
     "output_type": "stream",
     "text": [
      "             eps_est           eps\n",
      "count  111347.000000  136216.00000\n",
      "mean        0.202519       0.11316\n",
      "std        18.863806      13.56283\n",
      "min     -4489.290000    -987.54000\n",
      "25%        -0.020000      -0.03000\n",
      "50%         0.270000       0.23000\n",
      "75%         0.640000       0.61000\n",
      "max       987.540000     987.54000\n"
     ]
    }
   ],
   "source": [
    "print(earning_df.describe())"
   ]
  },
  {
   "cell_type": "markdown",
   "metadata": {},
   "source": [
    "### Stockprice Statistical Summary"
   ]
  },
  {
   "cell_type": "code",
   "execution_count": 21,
   "metadata": {},
   "outputs": [
    {
     "name": "stdout",
     "output_type": "stream",
     "text": [
      "               open          high           low         close  close_adjusted  \\\n",
      "count  2.439502e+07  2.439502e+07  2.439502e+07  2.439502e+07    2.439502e+07   \n",
      "mean   6.623594e+01  6.686430e+01  6.557013e+01  1.267143e+02    2.553036e+04   \n",
      "std    2.711679e+03  2.728914e+03  2.693064e+03  2.098506e+05    2.965577e+06   \n",
      "min   -2.000000e-02 -2.000000e-02 -2.000000e-02 -2.000000e-02   -1.990000e-02   \n",
      "25%    7.620000e+00  7.770000e+00  7.470000e+00  7.620000e+00    6.419500e+00   \n",
      "50%    1.714000e+01  1.740000e+01  1.690000e+01  1.714000e+01    1.404370e+01   \n",
      "75%    3.365000e+01  3.410000e+01  3.317000e+01  3.366000e+01    2.896960e+01   \n",
      "max    4.410630e+05  4.450000e+05  4.391320e+05  9.077000e+08    1.069826e+09   \n",
      "\n",
      "             volume  split_coefficient  \n",
      "count  2.439502e+07       2.439502e+07  \n",
      "mean   1.028882e+06       1.000058e+00  \n",
      "std    6.887861e+06       3.519634e-02  \n",
      "min    0.000000e+00       1.000000e-04  \n",
      "25%    1.950000e+04       1.000000e+00  \n",
      "50%    1.208080e+05       1.000000e+00  \n",
      "75%    5.627112e+05       1.000000e+00  \n",
      "max    3.948220e+09       1.499925e+02  \n"
     ]
    }
   ],
   "source": [
    "print(stockprice_df.describe())"
   ]
  },
  {
   "cell_type": "markdown",
   "metadata": {},
   "source": [
    "### Summary Dataframe Statistical Summary"
   ]
  },
  {
   "cell_type": "code",
   "execution_count": 22,
   "metadata": {},
   "outputs": [
    {
     "name": "stdout",
     "output_type": "stream",
     "text": [
      "       total_prices  total_earnings\n",
      "count   7786.000000     7786.000000\n",
      "mean    3133.189828       21.456203\n",
      "std     2119.540750       19.705453\n",
      "min       12.000000        0.000000\n",
      "25%     1101.000000        0.000000\n",
      "50%     2816.000000       19.000000\n",
      "75%     5551.000000       42.000000\n",
      "max     5900.000000       53.000000\n"
     ]
    }
   ],
   "source": [
    "print(summary_df.describe())"
   ]
  },
  {
   "cell_type": "markdown",
   "metadata": {},
   "source": [
    "## Data Cleaning"
   ]
  },
  {
   "cell_type": "markdown",
   "metadata": {},
   "source": [
    "### Finding Missing Values (NaN)\n",
    "\n",
    "Identify NaN values for all columns in each dataframe"
   ]
  },
  {
   "cell_type": "code",
   "execution_count": 23,
   "metadata": {},
   "outputs": [
    {
     "data": {
      "text/html": [
       "<div>\n",
       "<style scoped>\n",
       "    .dataframe tbody tr th:only-of-type {\n",
       "        vertical-align: middle;\n",
       "    }\n",
       "\n",
       "    .dataframe tbody tr th {\n",
       "        vertical-align: top;\n",
       "    }\n",
       "\n",
       "    .dataframe thead th {\n",
       "        text-align: right;\n",
       "    }\n",
       "</style>\n",
       "<table border=\"1\" class=\"dataframe\">\n",
       "  <thead>\n",
       "    <tr style=\"text-align: right;\">\n",
       "      <th></th>\n",
       "      <th>null_count</th>\n",
       "      <th>%null_count</th>\n",
       "    </tr>\n",
       "  </thead>\n",
       "  <tbody>\n",
       "  </tbody>\n",
       "</table>\n",
       "</div>"
      ],
      "text/plain": [
       "Empty DataFrame\n",
       "Columns: [null_count, %null_count]\n",
       "Index: []"
      ]
     },
     "execution_count": 23,
     "metadata": {},
     "output_type": "execute_result"
    }
   ],
   "source": [
    "# dividend\n",
    "dividend_nan = pd.DataFrame(dividend_df.isnull().sum(), columns=['null_count'])\n",
    "dividend_nan['%null_count'] = round(dividend_nan['null_count']/dividend_df.shape[0]*100, 2)\n",
    "dividend_nan[dividend_nan['%null_count'] > 0].sort_values(by='%null_count', ascending=False)"
   ]
  },
  {
   "cell_type": "code",
   "execution_count": 24,
   "metadata": {},
   "outputs": [
    {
     "data": {
      "text/html": [
       "<div>\n",
       "<style scoped>\n",
       "    .dataframe tbody tr th:only-of-type {\n",
       "        vertical-align: middle;\n",
       "    }\n",
       "\n",
       "    .dataframe tbody tr th {\n",
       "        vertical-align: top;\n",
       "    }\n",
       "\n",
       "    .dataframe thead th {\n",
       "        text-align: right;\n",
       "    }\n",
       "</style>\n",
       "<table border=\"1\" class=\"dataframe\">\n",
       "  <thead>\n",
       "    <tr style=\"text-align: right;\">\n",
       "      <th></th>\n",
       "      <th>null_count</th>\n",
       "      <th>%null_count</th>\n",
       "    </tr>\n",
       "  </thead>\n",
       "  <tbody>\n",
       "    <tr>\n",
       "      <th>release_time</th>\n",
       "      <td>60203</td>\n",
       "      <td>35.71</td>\n",
       "    </tr>\n",
       "    <tr>\n",
       "      <th>eps_est</th>\n",
       "      <td>57256</td>\n",
       "      <td>33.96</td>\n",
       "    </tr>\n",
       "    <tr>\n",
       "      <th>eps</th>\n",
       "      <td>32387</td>\n",
       "      <td>19.21</td>\n",
       "    </tr>\n",
       "    <tr>\n",
       "      <th>qtr</th>\n",
       "      <td>1004</td>\n",
       "      <td>0.60</td>\n",
       "    </tr>\n",
       "  </tbody>\n",
       "</table>\n",
       "</div>"
      ],
      "text/plain": [
       "              null_count  %null_count\n",
       "release_time       60203        35.71\n",
       "eps_est            57256        33.96\n",
       "eps                32387        19.21\n",
       "qtr                 1004         0.60"
      ]
     },
     "execution_count": 24,
     "metadata": {},
     "output_type": "execute_result"
    }
   ],
   "source": [
    "# earning\n",
    "earning_nan = pd.DataFrame(earning_df.isnull().sum(), columns=['null_count'])\n",
    "earning_nan['%null_count'] = round(earning_nan['null_count']/earning_df.shape[0]*100, 2)\n",
    "earning_nan[earning_nan['%null_count'] > 0].sort_values(by='%null_count', ascending=False)"
   ]
  },
  {
   "cell_type": "code",
   "execution_count": 25,
   "metadata": {},
   "outputs": [
    {
     "data": {
      "text/html": [
       "<div>\n",
       "<style scoped>\n",
       "    .dataframe tbody tr th:only-of-type {\n",
       "        vertical-align: middle;\n",
       "    }\n",
       "\n",
       "    .dataframe tbody tr th {\n",
       "        vertical-align: top;\n",
       "    }\n",
       "\n",
       "    .dataframe thead th {\n",
       "        text-align: right;\n",
       "    }\n",
       "</style>\n",
       "<table border=\"1\" class=\"dataframe\">\n",
       "  <thead>\n",
       "    <tr style=\"text-align: right;\">\n",
       "      <th></th>\n",
       "      <th>null_count</th>\n",
       "      <th>%null_count</th>\n",
       "    </tr>\n",
       "  </thead>\n",
       "  <tbody>\n",
       "  </tbody>\n",
       "</table>\n",
       "</div>"
      ],
      "text/plain": [
       "Empty DataFrame\n",
       "Columns: [null_count, %null_count]\n",
       "Index: []"
      ]
     },
     "execution_count": 25,
     "metadata": {},
     "output_type": "execute_result"
    }
   ],
   "source": [
    "# stockprice\n",
    "stockprice_nan = pd.DataFrame(stockprice_df.isnull().sum(), columns=['null_count'])\n",
    "stockprice_nan['%null_count'] = round(stockprice_nan['null_count']/stockprice_df.shape[0]*100, 2)\n",
    "stockprice_nan[stockprice_nan['%null_count'] > 0].sort_values(by='%null_count', ascending=False)"
   ]
  },
  {
   "cell_type": "code",
   "execution_count": 26,
   "metadata": {},
   "outputs": [
    {
     "data": {
      "text/html": [
       "<div>\n",
       "<style scoped>\n",
       "    .dataframe tbody tr th:only-of-type {\n",
       "        vertical-align: middle;\n",
       "    }\n",
       "\n",
       "    .dataframe tbody tr th {\n",
       "        vertical-align: top;\n",
       "    }\n",
       "\n",
       "    .dataframe thead th {\n",
       "        text-align: right;\n",
       "    }\n",
       "</style>\n",
       "<table border=\"1\" class=\"dataframe\">\n",
       "  <thead>\n",
       "    <tr style=\"text-align: right;\">\n",
       "      <th></th>\n",
       "      <th>null_count</th>\n",
       "      <th>%null_count</th>\n",
       "    </tr>\n",
       "  </thead>\n",
       "  <tbody>\n",
       "    <tr>\n",
       "      <th>earnings_from_date</th>\n",
       "      <td>2599</td>\n",
       "      <td>33.38</td>\n",
       "    </tr>\n",
       "    <tr>\n",
       "      <th>earnings_to_date</th>\n",
       "      <td>2599</td>\n",
       "      <td>33.38</td>\n",
       "    </tr>\n",
       "  </tbody>\n",
       "</table>\n",
       "</div>"
      ],
      "text/plain": [
       "                    null_count  %null_count\n",
       "earnings_from_date        2599        33.38\n",
       "earnings_to_date          2599        33.38"
      ]
     },
     "execution_count": 26,
     "metadata": {},
     "output_type": "execute_result"
    }
   ],
   "source": [
    "# summary\n",
    "summary_nan = pd.DataFrame(summary_df.isnull().sum(), columns=['null_count'])\n",
    "summary_nan['%null_count'] = round(summary_nan['null_count']/summary_df.shape[0]*100, 2)\n",
    "summary_nan[summary_nan['%null_count'] > 0].sort_values(by='%null_count', ascending=False)"
   ]
  },
  {
   "cell_type": "markdown",
   "metadata": {},
   "source": [
    "#### The missing value search shows the following:\n",
    "- dividend and stockprice dataframes don't have any NaN values\n",
    "- earning and summary dataframes have NaN values which will be properly addressed"
   ]
  },
  {
   "cell_type": "markdown",
   "metadata": {},
   "source": [
    "### Handling earnings_df Dataframe Missing (NaN) Values \n",
    "\n",
    "Select the appropriate fill method to replace NaN in each column with NaN values"
   ]
  },
  {
   "cell_type": "markdown",
   "metadata": {},
   "source": [
    "The **earnings** dataframe shows four variables with missing values\n",
    "The earning per share (eps) is an important metric to look at first. Around 19.21% of the data is missing. Looking into a couple of companies eps data, it was found out that most eps data was missing between 2009 and 2012 as a consecuence of an economic recession. Therefore, these rows with missing data can be deleted. The apple (AAPL) 'eps' data will be further explored."
   ]
  },
  {
   "cell_type": "markdown",
   "metadata": {},
   "source": [
    "### Apple Earning Data"
   ]
  },
  {
   "cell_type": "code",
   "execution_count": 27,
   "metadata": {},
   "outputs": [
    {
     "data": {
      "text/html": [
       "<div>\n",
       "<style scoped>\n",
       "    .dataframe tbody tr th:only-of-type {\n",
       "        vertical-align: middle;\n",
       "    }\n",
       "\n",
       "    .dataframe tbody tr th {\n",
       "        vertical-align: top;\n",
       "    }\n",
       "\n",
       "    .dataframe thead th {\n",
       "        text-align: right;\n",
       "    }\n",
       "</style>\n",
       "<table border=\"1\" class=\"dataframe\">\n",
       "  <thead>\n",
       "    <tr style=\"text-align: right;\">\n",
       "      <th></th>\n",
       "      <th>symbol</th>\n",
       "      <th>date</th>\n",
       "      <th>qtr</th>\n",
       "      <th>eps_est</th>\n",
       "      <th>eps</th>\n",
       "      <th>release_time</th>\n",
       "    </tr>\n",
       "  </thead>\n",
       "  <tbody>\n",
       "    <tr>\n",
       "      <th>372</th>\n",
       "      <td>AAPL</td>\n",
       "      <td>2009-07-21</td>\n",
       "      <td>06/2009</td>\n",
       "      <td>NaN</td>\n",
       "      <td>NaN</td>\n",
       "      <td>post</td>\n",
       "    </tr>\n",
       "    <tr>\n",
       "      <th>373</th>\n",
       "      <td>AAPL</td>\n",
       "      <td>2009-10-19</td>\n",
       "      <td>09/2009</td>\n",
       "      <td>NaN</td>\n",
       "      <td>0.45</td>\n",
       "      <td>post</td>\n",
       "    </tr>\n",
       "    <tr>\n",
       "      <th>374</th>\n",
       "      <td>AAPL</td>\n",
       "      <td>2010-01-25</td>\n",
       "      <td>12/2009</td>\n",
       "      <td>NaN</td>\n",
       "      <td>NaN</td>\n",
       "      <td>post</td>\n",
       "    </tr>\n",
       "    <tr>\n",
       "      <th>375</th>\n",
       "      <td>AAPL</td>\n",
       "      <td>2010-04-20</td>\n",
       "      <td>03/2010</td>\n",
       "      <td>NaN</td>\n",
       "      <td>NaN</td>\n",
       "      <td>post</td>\n",
       "    </tr>\n",
       "    <tr>\n",
       "      <th>376</th>\n",
       "      <td>AAPL</td>\n",
       "      <td>2010-07-20</td>\n",
       "      <td>06/2010</td>\n",
       "      <td>NaN</td>\n",
       "      <td>NaN</td>\n",
       "      <td>post</td>\n",
       "    </tr>\n",
       "  </tbody>\n",
       "</table>\n",
       "</div>"
      ],
      "text/plain": [
       "    symbol        date      qtr  eps_est   eps release_time\n",
       "372   AAPL  2009-07-21  06/2009      NaN   NaN         post\n",
       "373   AAPL  2009-10-19  09/2009      NaN  0.45         post\n",
       "374   AAPL  2010-01-25  12/2009      NaN   NaN         post\n",
       "375   AAPL  2010-04-20  03/2010      NaN   NaN         post\n",
       "376   AAPL  2010-07-20  06/2010      NaN   NaN         post"
      ]
     },
     "execution_count": 27,
     "metadata": {},
     "output_type": "execute_result"
    }
   ],
   "source": [
    "apple_earning_df = earning_df[earning_df['symbol'] =='AAPL']\n",
    "apple_earning_df.head()"
   ]
  },
  {
   "cell_type": "code",
   "execution_count": 28,
   "metadata": {},
   "outputs": [
    {
     "data": {
      "text/plain": [
       "(48, 6)"
      ]
     },
     "execution_count": 28,
     "metadata": {},
     "output_type": "execute_result"
    }
   ],
   "source": [
    "apple_earning_df.shape"
   ]
  },
  {
   "cell_type": "markdown",
   "metadata": {},
   "source": [
    "### Apple earning per share (eps) data"
   ]
  },
  {
   "cell_type": "code",
   "execution_count": 29,
   "metadata": {},
   "outputs": [
    {
     "data": {
      "text/plain": [
       "(12, 6)"
      ]
     },
     "execution_count": 29,
     "metadata": {},
     "output_type": "execute_result"
    }
   ],
   "source": [
    "apple_eps_nan = apple_earning_df[apple_earning_df['eps'].isnull()]\n",
    "apple_eps_nan.shape"
   ]
  },
  {
   "cell_type": "code",
   "execution_count": 30,
   "metadata": {},
   "outputs": [
    {
     "data": {
      "image/png": "[encoded data removed]",
      "text/plain": [
       "<Figure size 1080x360 with 1 Axes>"
      ]
     },
     "metadata": {
      "needs_background": "light"
     },
     "output_type": "display_data"
    }
   ],
   "source": [
    "fig, ax = plt.subplots(figsize=(15, 5))\n",
    "ax.plot(apple_earning_df.date, apple_earning_df.eps, label='eps')\n",
    "ax.axvspan(apple_eps_nan.date.iloc[1], apple_eps_nan.date.iloc[-1], alpha=0.5, color='red', label='nan eps')\n",
    "plt.xticks(rotation=90)\n",
    "plt.title('Apple Earning Per Share Data',  fontsize=18, fontweight='bold')\n",
    "plt.xlabel('date',  fontsize=16, fontweight='bold')\n",
    "plt.ylabel('earning per share (eps)',  fontsize=16, fontweight='bold')\n",
    "plt.legend()\n",
    "plt.show()"
   ]
  },
  {
   "cell_type": "markdown",
   "metadata": {},
   "source": [
    "### Handling earnings_df.eps NaN values \n",
    "\n",
    "To address this issue, we remove all rows with NaN eps values. In other words, we extract earning data without NaN eps values."
   ]
  },
  {
   "cell_type": "code",
   "execution_count": 31,
   "metadata": {},
   "outputs": [
    {
     "data": {
      "text/plain": [
       "(168603, 6)"
      ]
     },
     "execution_count": 31,
     "metadata": {},
     "output_type": "execute_result"
    }
   ],
   "source": [
    "earning_df.shape"
   ]
  },
  {
   "cell_type": "code",
   "execution_count": 32,
   "metadata": {},
   "outputs": [
    {
     "data": {
      "text/html": [
       "<div>\n",
       "<style scoped>\n",
       "    .dataframe tbody tr th:only-of-type {\n",
       "        vertical-align: middle;\n",
       "    }\n",
       "\n",
       "    .dataframe tbody tr th {\n",
       "        vertical-align: top;\n",
       "    }\n",
       "\n",
       "    .dataframe thead th {\n",
       "        text-align: right;\n",
       "    }\n",
       "</style>\n",
       "<table border=\"1\" class=\"dataframe\">\n",
       "  <thead>\n",
       "    <tr style=\"text-align: right;\">\n",
       "      <th></th>\n",
       "      <th>symbol</th>\n",
       "      <th>date</th>\n",
       "      <th>qtr</th>\n",
       "      <th>eps_est</th>\n",
       "      <th>eps</th>\n",
       "      <th>release_time</th>\n",
       "    </tr>\n",
       "  </thead>\n",
       "  <tbody>\n",
       "    <tr>\n",
       "      <th>14</th>\n",
       "      <td>A</td>\n",
       "      <td>2012-11-19</td>\n",
       "      <td>10/2012</td>\n",
       "      <td>0.80</td>\n",
       "      <td>0.84</td>\n",
       "      <td>post</td>\n",
       "    </tr>\n",
       "    <tr>\n",
       "      <th>15</th>\n",
       "      <td>A</td>\n",
       "      <td>2013-02-14</td>\n",
       "      <td>01/2013</td>\n",
       "      <td>0.66</td>\n",
       "      <td>0.63</td>\n",
       "      <td>post</td>\n",
       "    </tr>\n",
       "    <tr>\n",
       "      <th>16</th>\n",
       "      <td>A</td>\n",
       "      <td>2013-05-14</td>\n",
       "      <td>04/2013</td>\n",
       "      <td>0.67</td>\n",
       "      <td>0.77</td>\n",
       "      <td>post</td>\n",
       "    </tr>\n",
       "    <tr>\n",
       "      <th>17</th>\n",
       "      <td>A</td>\n",
       "      <td>2013-08-14</td>\n",
       "      <td>07/2013</td>\n",
       "      <td>0.62</td>\n",
       "      <td>0.68</td>\n",
       "      <td>post</td>\n",
       "    </tr>\n",
       "    <tr>\n",
       "      <th>18</th>\n",
       "      <td>A</td>\n",
       "      <td>2013-11-14</td>\n",
       "      <td>10/2013</td>\n",
       "      <td>0.76</td>\n",
       "      <td>0.81</td>\n",
       "      <td>post</td>\n",
       "    </tr>\n",
       "  </tbody>\n",
       "</table>\n",
       "</div>"
      ],
      "text/plain": [
       "   symbol        date      qtr  eps_est   eps release_time\n",
       "14      A  2012-11-19  10/2012     0.80  0.84         post\n",
       "15      A  2013-02-14  01/2013     0.66  0.63         post\n",
       "16      A  2013-05-14  04/2013     0.67  0.77         post\n",
       "17      A  2013-08-14  07/2013     0.62  0.68         post\n",
       "18      A  2013-11-14  10/2013     0.76  0.81         post"
      ]
     },
     "execution_count": 32,
     "metadata": {},
     "output_type": "execute_result"
    }
   ],
   "source": [
    "earning_df = earning_df[earning_df.eps.notna()]\n",
    "earning_df.head()"
   ]
  },
  {
   "cell_type": "code",
   "execution_count": 33,
   "metadata": {},
   "outputs": [
    {
     "data": {
      "text/plain": [
       "(136216, 6)"
      ]
     },
     "execution_count": 33,
     "metadata": {},
     "output_type": "execute_result"
    }
   ],
   "source": [
    "earning_df.shape"
   ]
  },
  {
   "cell_type": "code",
   "execution_count": 34,
   "metadata": {},
   "outputs": [
    {
     "data": {
      "text/html": [
       "<div>\n",
       "<style scoped>\n",
       "    .dataframe tbody tr th:only-of-type {\n",
       "        vertical-align: middle;\n",
       "    }\n",
       "\n",
       "    .dataframe tbody tr th {\n",
       "        vertical-align: top;\n",
       "    }\n",
       "\n",
       "    .dataframe thead th {\n",
       "        text-align: right;\n",
       "    }\n",
       "</style>\n",
       "<table border=\"1\" class=\"dataframe\">\n",
       "  <thead>\n",
       "    <tr style=\"text-align: right;\">\n",
       "      <th></th>\n",
       "      <th>null_count</th>\n",
       "      <th>%null_count</th>\n",
       "    </tr>\n",
       "  </thead>\n",
       "  <tbody>\n",
       "    <tr>\n",
       "      <th>release_time</th>\n",
       "      <td>48423</td>\n",
       "      <td>35.55</td>\n",
       "    </tr>\n",
       "    <tr>\n",
       "      <th>eps_est</th>\n",
       "      <td>25222</td>\n",
       "      <td>18.52</td>\n",
       "    </tr>\n",
       "    <tr>\n",
       "      <th>qtr</th>\n",
       "      <td>1004</td>\n",
       "      <td>0.74</td>\n",
       "    </tr>\n",
       "  </tbody>\n",
       "</table>\n",
       "</div>"
      ],
      "text/plain": [
       "              null_count  %null_count\n",
       "release_time       48423        35.55\n",
       "eps_est            25222        18.52\n",
       "qtr                 1004         0.74"
      ]
     },
     "execution_count": 34,
     "metadata": {},
     "output_type": "execute_result"
    }
   ],
   "source": [
    "# Check for eps nan data in updated earning dataframe\n",
    "earning_nan = pd.DataFrame(earning_df.isnull().sum(), columns=['null_count'])\n",
    "earning_nan['%null_count'] = round(earning_nan['null_count']/earning_df.shape[0]*100, 2)\n",
    "earning_nan[earning_nan['%null_count'] > 0].sort_values(by='%null_count', ascending=False)"
   ]
  },
  {
   "cell_type": "markdown",
   "metadata": {},
   "source": [
    "### Handling earnings_df.eps_est NaN values \n",
    "\n",
    "To address this issue, eps would be the closest estimate for eps_est nan values"
   ]
  },
  {
   "cell_type": "code",
   "execution_count": 35,
   "metadata": {},
   "outputs": [],
   "source": [
    "# Fill out the eps_est nan values with eps values\n",
    "earning_df.eps_est = earning_df.eps_est.fillna(earning_df.eps).values"
   ]
  },
  {
   "cell_type": "code",
   "execution_count": 36,
   "metadata": {},
   "outputs": [
    {
     "data": {
      "text/html": [
       "<div>\n",
       "<style scoped>\n",
       "    .dataframe tbody tr th:only-of-type {\n",
       "        vertical-align: middle;\n",
       "    }\n",
       "\n",
       "    .dataframe tbody tr th {\n",
       "        vertical-align: top;\n",
       "    }\n",
       "\n",
       "    .dataframe thead th {\n",
       "        text-align: right;\n",
       "    }\n",
       "</style>\n",
       "<table border=\"1\" class=\"dataframe\">\n",
       "  <thead>\n",
       "    <tr style=\"text-align: right;\">\n",
       "      <th></th>\n",
       "      <th>null_count</th>\n",
       "      <th>%null_count</th>\n",
       "    </tr>\n",
       "  </thead>\n",
       "  <tbody>\n",
       "    <tr>\n",
       "      <th>release_time</th>\n",
       "      <td>48423</td>\n",
       "      <td>35.55</td>\n",
       "    </tr>\n",
       "    <tr>\n",
       "      <th>qtr</th>\n",
       "      <td>1004</td>\n",
       "      <td>0.74</td>\n",
       "    </tr>\n",
       "  </tbody>\n",
       "</table>\n",
       "</div>"
      ],
      "text/plain": [
       "              null_count  %null_count\n",
       "release_time       48423        35.55\n",
       "qtr                 1004         0.74"
      ]
     },
     "execution_count": 36,
     "metadata": {},
     "output_type": "execute_result"
    }
   ],
   "source": [
    "# Check for eps_est nan data in updated earning dataframe\n",
    "earning_nan = pd.DataFrame(earning_df.isnull().sum(), columns=['null_count'])\n",
    "earning_nan['%null_count'] = round(earning_nan['null_count']/earning_df.shape[0]*100, 2)\n",
    "earning_nan[earning_nan['%null_count'] > 0].sort_values(by='%null_count', ascending=False)"
   ]
  },
  {
   "cell_type": "markdown",
   "metadata": {},
   "source": [
    "### Handling earnings_df.release_time NaN values \n",
    "\n",
    "The amount of NaN (missing) data for the `release_time` variable is very significant 35.55%. Exploring the release_time variable values shows that post/pre data appeared in bunch mostly. Therefore, filling the nan values using the forward fill (ffill) method seems to be a good choice. "
   ]
  },
  {
   "cell_type": "code",
   "execution_count": 37,
   "metadata": {},
   "outputs": [
    {
     "data": {
      "image/png": "[encoded data removed]",
      "text/plain": [
       "<Figure size 432x288 with 1 Axes>"
      ]
     },
     "metadata": {
      "needs_background": "light"
     },
     "output_type": "display_data"
    }
   ],
   "source": [
    "sns.barplot(data=earning_df, x='release_time', y='eps')\n",
    "plt.show()"
   ]
  },
  {
   "cell_type": "code",
   "execution_count": 38,
   "metadata": {},
   "outputs": [],
   "source": [
    "# # Fill out the release_time nan values with ffill method\n",
    "earning_df.release_time = earning_df.release_time.fillna(method='ffill').values"
   ]
  },
  {
   "cell_type": "code",
   "execution_count": 39,
   "metadata": {},
   "outputs": [
    {
     "data": {
      "text/html": [
       "<div>\n",
       "<style scoped>\n",
       "    .dataframe tbody tr th:only-of-type {\n",
       "        vertical-align: middle;\n",
       "    }\n",
       "\n",
       "    .dataframe tbody tr th {\n",
       "        vertical-align: top;\n",
       "    }\n",
       "\n",
       "    .dataframe thead th {\n",
       "        text-align: right;\n",
       "    }\n",
       "</style>\n",
       "<table border=\"1\" class=\"dataframe\">\n",
       "  <thead>\n",
       "    <tr style=\"text-align: right;\">\n",
       "      <th></th>\n",
       "      <th>null_count</th>\n",
       "      <th>%null_count</th>\n",
       "    </tr>\n",
       "  </thead>\n",
       "  <tbody>\n",
       "    <tr>\n",
       "      <th>qtr</th>\n",
       "      <td>1004</td>\n",
       "      <td>0.74</td>\n",
       "    </tr>\n",
       "  </tbody>\n",
       "</table>\n",
       "</div>"
      ],
      "text/plain": [
       "     null_count  %null_count\n",
       "qtr        1004         0.74"
      ]
     },
     "execution_count": 39,
     "metadata": {},
     "output_type": "execute_result"
    }
   ],
   "source": [
    "# check for release_time nan data in updated earning dataframe\n",
    "earning_nan = pd.DataFrame(earning_df.isnull().sum(), columns=['null_count'])\n",
    "earning_nan['%null_count'] = round(earning_nan['null_count']/earning_df.shape[0]*100, 2)\n",
    "earning_nan[earning_nan['%null_count'] > 0].sort_values(by='%null_count', ascending=False)"
   ]
  },
  {
   "cell_type": "markdown",
   "metadata": {},
   "source": [
    "### Handling earnings_df.qtr NaN values \n",
    "\n",
    "The qtr is the fiscal quarter, the qrt missing values can be determined from the date. To achieve this task, the plan is to categorize qtr into Q1-Q4 depending on the month the eps was declared."
   ]
  },
  {
   "cell_type": "code",
   "execution_count": 40,
   "metadata": {},
   "outputs": [
    {
     "data": {
      "text/html": [
       "<div>\n",
       "<style scoped>\n",
       "    .dataframe tbody tr th:only-of-type {\n",
       "        vertical-align: middle;\n",
       "    }\n",
       "\n",
       "    .dataframe tbody tr th {\n",
       "        vertical-align: top;\n",
       "    }\n",
       "\n",
       "    .dataframe thead th {\n",
       "        text-align: right;\n",
       "    }\n",
       "</style>\n",
       "<table border=\"1\" class=\"dataframe\">\n",
       "  <thead>\n",
       "    <tr style=\"text-align: right;\">\n",
       "      <th></th>\n",
       "      <th>symbol</th>\n",
       "      <th>date</th>\n",
       "      <th>qtr</th>\n",
       "      <th>eps_est</th>\n",
       "      <th>eps</th>\n",
       "      <th>release_time</th>\n",
       "    </tr>\n",
       "  </thead>\n",
       "  <tbody>\n",
       "    <tr>\n",
       "      <th>14</th>\n",
       "      <td>A</td>\n",
       "      <td>2012-11-19</td>\n",
       "      <td>10/2012</td>\n",
       "      <td>0.80</td>\n",
       "      <td>0.84</td>\n",
       "      <td>post</td>\n",
       "    </tr>\n",
       "    <tr>\n",
       "      <th>15</th>\n",
       "      <td>A</td>\n",
       "      <td>2013-02-14</td>\n",
       "      <td>01/2013</td>\n",
       "      <td>0.66</td>\n",
       "      <td>0.63</td>\n",
       "      <td>post</td>\n",
       "    </tr>\n",
       "    <tr>\n",
       "      <th>16</th>\n",
       "      <td>A</td>\n",
       "      <td>2013-05-14</td>\n",
       "      <td>04/2013</td>\n",
       "      <td>0.67</td>\n",
       "      <td>0.77</td>\n",
       "      <td>post</td>\n",
       "    </tr>\n",
       "    <tr>\n",
       "      <th>17</th>\n",
       "      <td>A</td>\n",
       "      <td>2013-08-14</td>\n",
       "      <td>07/2013</td>\n",
       "      <td>0.62</td>\n",
       "      <td>0.68</td>\n",
       "      <td>post</td>\n",
       "    </tr>\n",
       "    <tr>\n",
       "      <th>18</th>\n",
       "      <td>A</td>\n",
       "      <td>2013-11-14</td>\n",
       "      <td>10/2013</td>\n",
       "      <td>0.76</td>\n",
       "      <td>0.81</td>\n",
       "      <td>post</td>\n",
       "    </tr>\n",
       "  </tbody>\n",
       "</table>\n",
       "</div>"
      ],
      "text/plain": [
       "   symbol        date      qtr  eps_est   eps release_time\n",
       "14      A  2012-11-19  10/2012     0.80  0.84         post\n",
       "15      A  2013-02-14  01/2013     0.66  0.63         post\n",
       "16      A  2013-05-14  04/2013     0.67  0.77         post\n",
       "17      A  2013-08-14  07/2013     0.62  0.68         post\n",
       "18      A  2013-11-14  10/2013     0.76  0.81         post"
      ]
     },
     "execution_count": 40,
     "metadata": {},
     "output_type": "execute_result"
    }
   ],
   "source": [
    "earning_df.head()"
   ]
  },
  {
   "cell_type": "code",
   "execution_count": 41,
   "metadata": {},
   "outputs": [
    {
     "data": {
      "text/html": [
       "<div>\n",
       "<style scoped>\n",
       "    .dataframe tbody tr th:only-of-type {\n",
       "        vertical-align: middle;\n",
       "    }\n",
       "\n",
       "    .dataframe tbody tr th {\n",
       "        vertical-align: top;\n",
       "    }\n",
       "\n",
       "    .dataframe thead th {\n",
       "        text-align: right;\n",
       "    }\n",
       "</style>\n",
       "<table border=\"1\" class=\"dataframe\">\n",
       "  <thead>\n",
       "    <tr style=\"text-align: right;\">\n",
       "      <th></th>\n",
       "      <th>symbol</th>\n",
       "      <th>date</th>\n",
       "      <th>qtr</th>\n",
       "      <th>eps_est</th>\n",
       "      <th>eps</th>\n",
       "      <th>release_time</th>\n",
       "    </tr>\n",
       "  </thead>\n",
       "  <tbody>\n",
       "    <tr>\n",
       "      <th>98</th>\n",
       "      <td>AAC</td>\n",
       "      <td>2019-02-20</td>\n",
       "      <td>NaN</td>\n",
       "      <td>-0.18</td>\n",
       "      <td>0.00</td>\n",
       "      <td>pre</td>\n",
       "    </tr>\n",
       "    <tr>\n",
       "      <th>99</th>\n",
       "      <td>AAC</td>\n",
       "      <td>2019-02-27</td>\n",
       "      <td>NaN</td>\n",
       "      <td>-0.18</td>\n",
       "      <td>0.00</td>\n",
       "      <td>pre</td>\n",
       "    </tr>\n",
       "    <tr>\n",
       "      <th>236</th>\n",
       "      <td>AAN</td>\n",
       "      <td>2019-02-14</td>\n",
       "      <td>NaN</td>\n",
       "      <td>1.03</td>\n",
       "      <td>1.02</td>\n",
       "      <td>pre</td>\n",
       "    </tr>\n",
       "    <tr>\n",
       "      <th>451</th>\n",
       "      <td>AAT</td>\n",
       "      <td>2019-02-12</td>\n",
       "      <td>NaN</td>\n",
       "      <td>0.47</td>\n",
       "      <td>0.14</td>\n",
       "      <td>post</td>\n",
       "    </tr>\n",
       "    <tr>\n",
       "      <th>606</th>\n",
       "      <td>AB</td>\n",
       "      <td>2019-02-13</td>\n",
       "      <td>NaN</td>\n",
       "      <td>0.64</td>\n",
       "      <td>0.64</td>\n",
       "      <td>pre</td>\n",
       "    </tr>\n",
       "  </tbody>\n",
       "</table>\n",
       "</div>"
      ],
      "text/plain": [
       "    symbol        date  qtr  eps_est   eps release_time\n",
       "98     AAC  2019-02-20  NaN    -0.18  0.00          pre\n",
       "99     AAC  2019-02-27  NaN    -0.18  0.00          pre\n",
       "236    AAN  2019-02-14  NaN     1.03  1.02          pre\n",
       "451    AAT  2019-02-12  NaN     0.47  0.14         post\n",
       "606     AB  2019-02-13  NaN     0.64  0.64          pre"
      ]
     },
     "execution_count": 41,
     "metadata": {},
     "output_type": "execute_result"
    }
   ],
   "source": [
    "qrt_nan = earning_df[earning_df['qtr'].isnull()]\n",
    "qrt_nan.head()"
   ]
  },
  {
   "cell_type": "code",
   "execution_count": 42,
   "metadata": {},
   "outputs": [
    {
     "data": {
      "text/plain": [
       "(1004, 6)"
      ]
     },
     "execution_count": 42,
     "metadata": {},
     "output_type": "execute_result"
    }
   ],
   "source": [
    "qrt_nan.shape"
   ]
  },
  {
   "cell_type": "code",
   "execution_count": 43,
   "metadata": {},
   "outputs": [
    {
     "name": "stdout",
     "output_type": "stream",
     "text": [
      "<class 'pandas.core.frame.DataFrame'>\n",
      "Int64Index: 136216 entries, 14 to 168602\n",
      "Data columns (total 6 columns):\n",
      " #   Column        Non-Null Count   Dtype  \n",
      "---  ------        --------------   -----  \n",
      " 0   symbol        136216 non-null  object \n",
      " 1   date          136216 non-null  object \n",
      " 2   qtr           135212 non-null  object \n",
      " 3   eps_est       136216 non-null  float64\n",
      " 4   eps           136216 non-null  float64\n",
      " 5   release_time  136216 non-null  object \n",
      "dtypes: float64(2), object(4)\n",
      "memory usage: 12.3+ MB\n"
     ]
    }
   ],
   "source": [
    "earning_df.info()"
   ]
  },
  {
   "cell_type": "code",
   "execution_count": 44,
   "metadata": {},
   "outputs": [
    {
     "name": "stdout",
     "output_type": "stream",
     "text": [
      "<class 'pandas.core.frame.DataFrame'>\n",
      "Int64Index: 136216 entries, 14 to 168602\n",
      "Data columns (total 6 columns):\n",
      " #   Column        Non-Null Count   Dtype         \n",
      "---  ------        --------------   -----         \n",
      " 0   symbol        136216 non-null  object        \n",
      " 1   date          136216 non-null  datetime64[ns]\n",
      " 2   qtr           135212 non-null  object        \n",
      " 3   eps_est       136216 non-null  float64       \n",
      " 4   eps           136216 non-null  float64       \n",
      " 5   release_time  136216 non-null  object        \n",
      "dtypes: datetime64[ns](1), float64(2), object(3)\n",
      "memory usage: 12.3+ MB\n"
     ]
    }
   ],
   "source": [
    "# Convert date dtype object to datetime \n",
    "earning_df.date = pd.to_datetime(earning_df.date).values\n",
    "earning_df.info()"
   ]
  },
  {
   "cell_type": "code",
   "execution_count": 45,
   "metadata": {},
   "outputs": [
    {
     "data": {
      "text/html": [
       "<div>\n",
       "<style scoped>\n",
       "    .dataframe tbody tr th:only-of-type {\n",
       "        vertical-align: middle;\n",
       "    }\n",
       "\n",
       "    .dataframe tbody tr th {\n",
       "        vertical-align: top;\n",
       "    }\n",
       "\n",
       "    .dataframe thead th {\n",
       "        text-align: right;\n",
       "    }\n",
       "</style>\n",
       "<table border=\"1\" class=\"dataframe\">\n",
       "  <thead>\n",
       "    <tr style=\"text-align: right;\">\n",
       "      <th></th>\n",
       "      <th>symbol</th>\n",
       "      <th>date</th>\n",
       "      <th>qtr</th>\n",
       "      <th>eps_est</th>\n",
       "      <th>eps</th>\n",
       "      <th>release_time</th>\n",
       "    </tr>\n",
       "  </thead>\n",
       "  <tbody>\n",
       "    <tr>\n",
       "      <th>14</th>\n",
       "      <td>A</td>\n",
       "      <td>2012-11-19</td>\n",
       "      <td>4.0</td>\n",
       "      <td>0.80</td>\n",
       "      <td>0.84</td>\n",
       "      <td>post</td>\n",
       "    </tr>\n",
       "    <tr>\n",
       "      <th>15</th>\n",
       "      <td>A</td>\n",
       "      <td>2013-02-14</td>\n",
       "      <td>1.0</td>\n",
       "      <td>0.66</td>\n",
       "      <td>0.63</td>\n",
       "      <td>post</td>\n",
       "    </tr>\n",
       "    <tr>\n",
       "      <th>16</th>\n",
       "      <td>A</td>\n",
       "      <td>2013-05-14</td>\n",
       "      <td>2.0</td>\n",
       "      <td>0.67</td>\n",
       "      <td>0.77</td>\n",
       "      <td>post</td>\n",
       "    </tr>\n",
       "    <tr>\n",
       "      <th>17</th>\n",
       "      <td>A</td>\n",
       "      <td>2013-08-14</td>\n",
       "      <td>3.0</td>\n",
       "      <td>0.62</td>\n",
       "      <td>0.68</td>\n",
       "      <td>post</td>\n",
       "    </tr>\n",
       "    <tr>\n",
       "      <th>18</th>\n",
       "      <td>A</td>\n",
       "      <td>2013-11-14</td>\n",
       "      <td>4.0</td>\n",
       "      <td>0.76</td>\n",
       "      <td>0.81</td>\n",
       "      <td>post</td>\n",
       "    </tr>\n",
       "  </tbody>\n",
       "</table>\n",
       "</div>"
      ],
      "text/plain": [
       "   symbol       date  qtr  eps_est   eps release_time\n",
       "14      A 2012-11-19  4.0     0.80  0.84         post\n",
       "15      A 2013-02-14  1.0     0.66  0.63         post\n",
       "16      A 2013-05-14  2.0     0.67  0.77         post\n",
       "17      A 2013-08-14  3.0     0.62  0.68         post\n",
       "18      A 2013-11-14  4.0     0.76  0.81         post"
      ]
     },
     "execution_count": 45,
     "metadata": {},
     "output_type": "execute_result"
    }
   ],
   "source": [
    "# The plan is to categorize qtr into Q1-Q4 depending on the month the eps was declared\n",
    "earning_df.qtr=np.ceil(pd.DatetimeIndex(earning_df.date).month/3)\n",
    "# earning_df['qtr'] = 'Q' + earning_df['qtr'].astype(str)   # Q1, Q2, Q3, Q4 represented by 1, 2, 3 and 4\n",
    "earning_df.head(5)"
   ]
  },
  {
   "cell_type": "code",
   "execution_count": 46,
   "metadata": {},
   "outputs": [
    {
     "data": {
      "text/html": [
       "<div>\n",
       "<style scoped>\n",
       "    .dataframe tbody tr th:only-of-type {\n",
       "        vertical-align: middle;\n",
       "    }\n",
       "\n",
       "    .dataframe tbody tr th {\n",
       "        vertical-align: top;\n",
       "    }\n",
       "\n",
       "    .dataframe thead th {\n",
       "        text-align: right;\n",
       "    }\n",
       "</style>\n",
       "<table border=\"1\" class=\"dataframe\">\n",
       "  <thead>\n",
       "    <tr style=\"text-align: right;\">\n",
       "      <th></th>\n",
       "      <th>null_count</th>\n",
       "      <th>%null_count</th>\n",
       "    </tr>\n",
       "  </thead>\n",
       "  <tbody>\n",
       "  </tbody>\n",
       "</table>\n",
       "</div>"
      ],
      "text/plain": [
       "Empty DataFrame\n",
       "Columns: [null_count, %null_count]\n",
       "Index: []"
      ]
     },
     "execution_count": 46,
     "metadata": {},
     "output_type": "execute_result"
    }
   ],
   "source": [
    "# check for qtr nan data in updated earning dataframe\n",
    "earning_nan = pd.DataFrame(earning_df.isnull().sum(), columns=['null_count'])\n",
    "earning_nan['%null_count'] = round(earning_nan['null_count']/earning_df.shape[0]*100, 2)\n",
    "earning_nan[earning_nan['%null_count'] > 0].sort_values(by='%null_count', ascending=False)"
   ]
  },
  {
   "cell_type": "markdown",
   "metadata": {},
   "source": [
    "**Note:** The `earning_df` dataframe doesn't have NaN values anymore."
   ]
  },
  {
   "cell_type": "markdown",
   "metadata": {},
   "source": [
    "### Handling summary_df Dataframe Missing (NaN) Values \n",
    "\n",
    "Select the appropriate fill method to replace NaN in each column with NaN values"
   ]
  },
  {
   "cell_type": "code",
   "execution_count": 47,
   "metadata": {},
   "outputs": [
    {
     "data": {
      "text/html": [
       "<div>\n",
       "<style scoped>\n",
       "    .dataframe tbody tr th:only-of-type {\n",
       "        vertical-align: middle;\n",
       "    }\n",
       "\n",
       "    .dataframe tbody tr th {\n",
       "        vertical-align: top;\n",
       "    }\n",
       "\n",
       "    .dataframe thead th {\n",
       "        text-align: right;\n",
       "    }\n",
       "</style>\n",
       "<table border=\"1\" class=\"dataframe\">\n",
       "  <thead>\n",
       "    <tr style=\"text-align: right;\">\n",
       "      <th></th>\n",
       "      <th>symbol</th>\n",
       "      <th>total_prices</th>\n",
       "      <th>stock_from_date</th>\n",
       "      <th>stock_to_date</th>\n",
       "      <th>total_earnings</th>\n",
       "      <th>earnings_from_date</th>\n",
       "      <th>earnings_to_date</th>\n",
       "    </tr>\n",
       "  </thead>\n",
       "  <tbody>\n",
       "    <tr>\n",
       "      <th>0</th>\n",
       "      <td>A</td>\n",
       "      <td>5418</td>\n",
       "      <td>1999-11-18</td>\n",
       "      <td>2021-06-02</td>\n",
       "      <td>49</td>\n",
       "      <td>2009-05-14</td>\n",
       "      <td>2021-05-25</td>\n",
       "    </tr>\n",
       "    <tr>\n",
       "      <th>1</th>\n",
       "      <td>AA</td>\n",
       "      <td>1153</td>\n",
       "      <td>2016-11-01</td>\n",
       "      <td>2021-06-02</td>\n",
       "      <td>18</td>\n",
       "      <td>2017-01-24</td>\n",
       "      <td>2021-04-15</td>\n",
       "    </tr>\n",
       "    <tr>\n",
       "      <th>2</th>\n",
       "      <td>AAAP</td>\n",
       "      <td>574</td>\n",
       "      <td>2015-11-11</td>\n",
       "      <td>2018-07-18</td>\n",
       "      <td>0</td>\n",
       "      <td>NaN</td>\n",
       "      <td>NaN</td>\n",
       "    </tr>\n",
       "    <tr>\n",
       "      <th>3</th>\n",
       "      <td>AABA</td>\n",
       "      <td>5486</td>\n",
       "      <td>1998-01-02</td>\n",
       "      <td>2020-03-10</td>\n",
       "      <td>14</td>\n",
       "      <td>2014-01-28</td>\n",
       "      <td>2017-04-18</td>\n",
       "    </tr>\n",
       "    <tr>\n",
       "      <th>4</th>\n",
       "      <td>AAC</td>\n",
       "      <td>1342</td>\n",
       "      <td>2014-10-02</td>\n",
       "      <td>2021-06-02</td>\n",
       "      <td>22</td>\n",
       "      <td>2014-11-05</td>\n",
       "      <td>2019-08-30</td>\n",
       "    </tr>\n",
       "  </tbody>\n",
       "</table>\n",
       "</div>"
      ],
      "text/plain": [
       "  symbol  total_prices stock_from_date stock_to_date  total_earnings  \\\n",
       "0      A          5418      1999-11-18    2021-06-02              49   \n",
       "1     AA          1153      2016-11-01    2021-06-02              18   \n",
       "2   AAAP           574      2015-11-11    2018-07-18               0   \n",
       "3   AABA          5486      1998-01-02    2020-03-10              14   \n",
       "4    AAC          1342      2014-10-02    2021-06-02              22   \n",
       "\n",
       "  earnings_from_date earnings_to_date  \n",
       "0         2009-05-14       2021-05-25  \n",
       "1         2017-01-24       2021-04-15  \n",
       "2                NaN              NaN  \n",
       "3         2014-01-28       2017-04-18  \n",
       "4         2014-11-05       2019-08-30  "
      ]
     },
     "execution_count": 47,
     "metadata": {},
     "output_type": "execute_result"
    }
   ],
   "source": [
    "summary_df.head()"
   ]
  },
  {
   "cell_type": "markdown",
   "metadata": {},
   "source": [
    "From the summary_df dataframe we observe that when the `total_Earnings` is 0, NaN is assigned to the `earnings_from_date` and `earning_to_date` columns. We also notice that even though `total_Earnings` is 0, 'total_prices' is not. Therefore,  `stock_from_date` will be assigned to `earning_from_date` NaN values,\n",
    "and `stock_to_date` will be assigned to `earnings_to_date` NaN values."
   ]
  },
  {
   "cell_type": "code",
   "execution_count": 48,
   "metadata": {},
   "outputs": [],
   "source": [
    "# Fill out the summary_df NaN values\n",
    "summary_df['earnings_from_date'].fillna(summary_df['stock_from_date'], inplace=True)\n",
    "summary_df['earnings_to_date'].fillna(summary_df['stock_to_date'], inplace=True)"
   ]
  },
  {
   "cell_type": "code",
   "execution_count": 49,
   "metadata": {},
   "outputs": [
    {
     "data": {
      "text/html": [
       "<div>\n",
       "<style scoped>\n",
       "    .dataframe tbody tr th:only-of-type {\n",
       "        vertical-align: middle;\n",
       "    }\n",
       "\n",
       "    .dataframe tbody tr th {\n",
       "        vertical-align: top;\n",
       "    }\n",
       "\n",
       "    .dataframe thead th {\n",
       "        text-align: right;\n",
       "    }\n",
       "</style>\n",
       "<table border=\"1\" class=\"dataframe\">\n",
       "  <thead>\n",
       "    <tr style=\"text-align: right;\">\n",
       "      <th></th>\n",
       "      <th>null_count</th>\n",
       "      <th>%null_count</th>\n",
       "    </tr>\n",
       "  </thead>\n",
       "  <tbody>\n",
       "  </tbody>\n",
       "</table>\n",
       "</div>"
      ],
      "text/plain": [
       "Empty DataFrame\n",
       "Columns: [null_count, %null_count]\n",
       "Index: []"
      ]
     },
     "execution_count": 49,
     "metadata": {},
     "output_type": "execute_result"
    }
   ],
   "source": [
    "# Check for NaN values in summary_df\n",
    "summary_nan = pd.DataFrame(summary_df.isnull().sum(), columns=['null_count'])\n",
    "summary_nan['%null_count'] = round(summary_nan['null_count']/summary_df.shape[0]*100, 2)\n",
    "summary_nan[summary_nan['%null_count'] > 0].sort_values(by='%null_count', ascending=False)"
   ]
  },
  {
   "cell_type": "markdown",
   "metadata": {},
   "source": [
    "**Note:** The `summary_df` dataframe doesn't have NaN values anymore."
   ]
  },
  {
   "cell_type": "markdown",
   "metadata": {},
   "source": [
    "### Finding Duplicate Rows"
   ]
  },
  {
   "cell_type": "code",
   "execution_count": 50,
   "metadata": {},
   "outputs": [
    {
     "name": "stdout",
     "output_type": "stream",
     "text": [
      "The number of duplicte rows in dividend_df is: 0\n",
      "The number of duplicte rows in earning_df is: 0\n",
      "The number of duplicte rows in stockprice_df is: 0\n",
      "The number of duplicte rows in summary_df is: 0\n"
     ]
    }
   ],
   "source": [
    "# dividend_df\n",
    "print('The number of duplicte rows in dividend_df is:', format(len(dividend_df[dividend_df.duplicated()])))\n",
    "\n",
    "# earning_df\n",
    "print('The number of duplicte rows in earning_df is:',format(len(earning_df[earning_df.duplicated()])))\n",
    "\n",
    "# stockprice_df\n",
    "print('The number of duplicte rows in stockprice_df is:',format(len(stockprice_df[stockprice_df.duplicated()])))\n",
    "\n",
    "# summary_df\n",
    "print('The number of duplicte rows in summary_df is:',format(len(summary_df[summary_df.duplicated()])))"
   ]
  },
  {
   "cell_type": "markdown",
   "metadata": {},
   "source": [
    "**Note:** None of the dataframes contain duplicate rows. "
   ]
  },
  {
   "cell_type": "markdown",
   "metadata": {},
   "source": [
    "### Extract Apple Data From all DataFrames"
   ]
  },
  {
   "cell_type": "markdown",
   "metadata": {},
   "source": [
    "#### Dividend Data"
   ]
  },
  {
   "cell_type": "code",
   "execution_count": 51,
   "metadata": {},
   "outputs": [
    {
     "data": {
      "text/html": [
       "<div>\n",
       "<style scoped>\n",
       "    .dataframe tbody tr th:only-of-type {\n",
       "        vertical-align: middle;\n",
       "    }\n",
       "\n",
       "    .dataframe tbody tr th {\n",
       "        vertical-align: top;\n",
       "    }\n",
       "\n",
       "    .dataframe thead th {\n",
       "        text-align: right;\n",
       "    }\n",
       "</style>\n",
       "<table border=\"1\" class=\"dataframe\">\n",
       "  <thead>\n",
       "    <tr style=\"text-align: right;\">\n",
       "      <th></th>\n",
       "      <th>symbol</th>\n",
       "      <th>date</th>\n",
       "      <th>dividend</th>\n",
       "    </tr>\n",
       "  </thead>\n",
       "  <tbody>\n",
       "    <tr>\n",
       "      <th>0</th>\n",
       "      <td>MSFT</td>\n",
       "      <td>2016-11-15</td>\n",
       "      <td>0.39</td>\n",
       "    </tr>\n",
       "    <tr>\n",
       "      <th>1</th>\n",
       "      <td>MSFT</td>\n",
       "      <td>2011-05-17</td>\n",
       "      <td>0.16</td>\n",
       "    </tr>\n",
       "  </tbody>\n",
       "</table>\n",
       "</div>"
      ],
      "text/plain": [
       "  symbol        date  dividend\n",
       "0   MSFT  2016-11-15      0.39\n",
       "1   MSFT  2011-05-17      0.16"
      ]
     },
     "execution_count": 51,
     "metadata": {},
     "output_type": "execute_result"
    }
   ],
   "source": [
    "dividend_df.head(2)"
   ]
  },
  {
   "cell_type": "code",
   "execution_count": 71,
   "metadata": {},
   "outputs": [
    {
     "name": "stdout",
     "output_type": "stream",
     "text": [
      "dividend_df_apple:\n"
     ]
    },
    {
     "data": {
      "text/html": [
       "<div>\n",
       "<style scoped>\n",
       "    .dataframe tbody tr th:only-of-type {\n",
       "        vertical-align: middle;\n",
       "    }\n",
       "\n",
       "    .dataframe tbody tr th {\n",
       "        vertical-align: top;\n",
       "    }\n",
       "\n",
       "    .dataframe thead th {\n",
       "        text-align: right;\n",
       "    }\n",
       "</style>\n",
       "<table border=\"1\" class=\"dataframe\">\n",
       "  <thead>\n",
       "    <tr style=\"text-align: right;\">\n",
       "      <th></th>\n",
       "      <th>year</th>\n",
       "      <th>dividend</th>\n",
       "    </tr>\n",
       "  </thead>\n",
       "  <tbody>\n",
       "    <tr>\n",
       "      <th>0</th>\n",
       "      <td>2012</td>\n",
       "      <td>2.6500</td>\n",
       "    </tr>\n",
       "    <tr>\n",
       "      <th>1</th>\n",
       "      <td>2013</td>\n",
       "      <td>2.9500</td>\n",
       "    </tr>\n",
       "    <tr>\n",
       "      <th>2</th>\n",
       "      <td>2014</td>\n",
       "      <td>1.8200</td>\n",
       "    </tr>\n",
       "    <tr>\n",
       "      <th>3</th>\n",
       "      <td>2015</td>\n",
       "      <td>0.5075</td>\n",
       "    </tr>\n",
       "    <tr>\n",
       "      <th>4</th>\n",
       "      <td>2016</td>\n",
       "      <td>0.5575</td>\n",
       "    </tr>\n",
       "  </tbody>\n",
       "</table>\n",
       "</div>"
      ],
      "text/plain": [
       "   year  dividend\n",
       "0  2012    2.6500\n",
       "1  2013    2.9500\n",
       "2  2014    1.8200\n",
       "3  2015    0.5075\n",
       "4  2016    0.5575"
      ]
     },
     "execution_count": 71,
     "metadata": {},
     "output_type": "execute_result"
    }
   ],
   "source": [
    "# Dividend Apple data \n",
    "print('dividend_df_apple:')\n",
    "\n",
    "# Extract dividend data\n",
    "dividend_df_apple = dividend_df[dividend_df.symbol=='AAPL']\n",
    "#print('\\n', dividend_df_apple.head(2))\n",
    "\n",
    "# Add a column 'year' \n",
    "dividend_df_apple['year'] = pd.DatetimeIndex(dividend_df_apple['date']).year  \n",
    "#print('\\n', dividend_df_apple.head(2))\n",
    "\n",
    "# Remove 'symbol', date' columns\n",
    "dividend_df_apple=dividend_df_apple.drop(columns=['symbol','date'])  \n",
    "#print('\\n', dividend_df_apple.head(2))\n",
    "\n",
    "# Take yearly dividend \n",
    "dividend_df_apple = dividend_df_apple.groupby(['year']).mean()  \n",
    "\n",
    "# Reset index\n",
    "dividend_df_apple.reset_index(inplace=True) \n",
    "dividend_df_apple.head(5)"
   ]
  },
  {
   "cell_type": "markdown",
   "metadata": {},
   "source": [
    "#### Earning Data"
   ]
  },
  {
   "cell_type": "code",
   "execution_count": 82,
   "metadata": {},
   "outputs": [
    {
     "data": {
      "text/html": [
       "<div>\n",
       "<style scoped>\n",
       "    .dataframe tbody tr th:only-of-type {\n",
       "        vertical-align: middle;\n",
       "    }\n",
       "\n",
       "    .dataframe tbody tr th {\n",
       "        vertical-align: top;\n",
       "    }\n",
       "\n",
       "    .dataframe thead th {\n",
       "        text-align: right;\n",
       "    }\n",
       "</style>\n",
       "<table border=\"1\" class=\"dataframe\">\n",
       "  <thead>\n",
       "    <tr style=\"text-align: right;\">\n",
       "      <th></th>\n",
       "      <th>symbol</th>\n",
       "      <th>date</th>\n",
       "      <th>qtr</th>\n",
       "      <th>eps_est</th>\n",
       "      <th>eps</th>\n",
       "      <th>release_time</th>\n",
       "    </tr>\n",
       "  </thead>\n",
       "  <tbody>\n",
       "    <tr>\n",
       "      <th>14</th>\n",
       "      <td>A</td>\n",
       "      <td>2012-11-19</td>\n",
       "      <td>4.0</td>\n",
       "      <td>0.80</td>\n",
       "      <td>0.84</td>\n",
       "      <td>post</td>\n",
       "    </tr>\n",
       "    <tr>\n",
       "      <th>15</th>\n",
       "      <td>A</td>\n",
       "      <td>2013-02-14</td>\n",
       "      <td>1.0</td>\n",
       "      <td>0.66</td>\n",
       "      <td>0.63</td>\n",
       "      <td>post</td>\n",
       "    </tr>\n",
       "  </tbody>\n",
       "</table>\n",
       "</div>"
      ],
      "text/plain": [
       "   symbol       date  qtr  eps_est   eps release_time\n",
       "14      A 2012-11-19  4.0     0.80  0.84         post\n",
       "15      A 2013-02-14  1.0     0.66  0.63         post"
      ]
     },
     "execution_count": 82,
     "metadata": {},
     "output_type": "execute_result"
    }
   ],
   "source": [
    "earning_df.head(2)"
   ]
  },
  {
   "cell_type": "code",
   "execution_count": 72,
   "metadata": {},
   "outputs": [
    {
     "name": "stdout",
     "output_type": "stream",
     "text": [
      "earning_df_apple:\n"
     ]
    },
    {
     "data": {
      "text/html": [
       "<div>\n",
       "<style scoped>\n",
       "    .dataframe tbody tr th:only-of-type {\n",
       "        vertical-align: middle;\n",
       "    }\n",
       "\n",
       "    .dataframe tbody tr th {\n",
       "        vertical-align: top;\n",
       "    }\n",
       "\n",
       "    .dataframe thead th {\n",
       "        text-align: right;\n",
       "    }\n",
       "</style>\n",
       "<table border=\"1\" class=\"dataframe\">\n",
       "  <thead>\n",
       "    <tr style=\"text-align: right;\">\n",
       "      <th></th>\n",
       "      <th>year</th>\n",
       "      <th>release_time</th>\n",
       "      <th>qtr</th>\n",
       "      <th>eps_est</th>\n",
       "      <th>eps</th>\n",
       "    </tr>\n",
       "  </thead>\n",
       "  <tbody>\n",
       "    <tr>\n",
       "      <th>0</th>\n",
       "      <td>2009</td>\n",
       "      <td>post</td>\n",
       "      <td>4.0</td>\n",
       "      <td>0.45</td>\n",
       "      <td>0.45</td>\n",
       "    </tr>\n",
       "    <tr>\n",
       "      <th>1</th>\n",
       "      <td>2012</td>\n",
       "      <td>post</td>\n",
       "      <td>4.0</td>\n",
       "      <td>1.26</td>\n",
       "      <td>1.24</td>\n",
       "    </tr>\n",
       "    <tr>\n",
       "      <th>2</th>\n",
       "      <td>2013</td>\n",
       "      <td>post</td>\n",
       "      <td>1.0</td>\n",
       "      <td>1.92</td>\n",
       "      <td>1.97</td>\n",
       "    </tr>\n",
       "    <tr>\n",
       "      <th>3</th>\n",
       "      <td>2013</td>\n",
       "      <td>post</td>\n",
       "      <td>2.0</td>\n",
       "      <td>1.45</td>\n",
       "      <td>1.44</td>\n",
       "    </tr>\n",
       "    <tr>\n",
       "      <th>4</th>\n",
       "      <td>2013</td>\n",
       "      <td>post</td>\n",
       "      <td>3.0</td>\n",
       "      <td>1.04</td>\n",
       "      <td>1.07</td>\n",
       "    </tr>\n",
       "  </tbody>\n",
       "</table>\n",
       "</div>"
      ],
      "text/plain": [
       "   year release_time  qtr  eps_est   eps\n",
       "0  2009         post  4.0     0.45  0.45\n",
       "1  2012         post  4.0     1.26  1.24\n",
       "2  2013         post  1.0     1.92  1.97\n",
       "3  2013         post  2.0     1.45  1.44\n",
       "4  2013         post  3.0     1.04  1.07"
      ]
     },
     "execution_count": 72,
     "metadata": {},
     "output_type": "execute_result"
    }
   ],
   "source": [
    "# Earning Apple data\n",
    "print('earning_df_apple:')\n",
    "\n",
    "# Extract earning data\n",
    "earning_df_apple = earning_df[earning_df.symbol=='AAPL'] \n",
    "#print('\\n', earning_df_apple.head(2))\n",
    "\n",
    "# Add a column 'year' on apple's dataframe\n",
    "earning_df_apple['year'] = pd.DatetimeIndex(earning_df_apple['date']).year \n",
    "#print('\\n', earning_df_apple.head(2))\n",
    "\n",
    "# Remove 'symbol','date' columns\n",
    "earning_df_apple = earning_df_apple.drop(['symbol','date'], axis=1)  \n",
    "#print('\\n', earning_df_apple.head(2))\n",
    "\n",
    "# Compute the mean of the data group by year, release_time, and qtr\n",
    "earning_df_apple = earning_df_apple.groupby(['year','release_time','qtr']).mean() \n",
    "#print('\\n', earning_df_apple.head(2))\n",
    "\n",
    "# Reset index\n",
    "earning_df_apple.reset_index(inplace=True)   \n",
    "earning_df_apple.head(5)"
   ]
  },
  {
   "cell_type": "markdown",
   "metadata": {},
   "source": [
    "#### Stockprice Data"
   ]
  },
  {
   "cell_type": "code",
   "execution_count": 83,
   "metadata": {},
   "outputs": [
    {
     "data": {
      "text/html": [
       "<div>\n",
       "<style scoped>\n",
       "    .dataframe tbody tr th:only-of-type {\n",
       "        vertical-align: middle;\n",
       "    }\n",
       "\n",
       "    .dataframe tbody tr th {\n",
       "        vertical-align: top;\n",
       "    }\n",
       "\n",
       "    .dataframe thead th {\n",
       "        text-align: right;\n",
       "    }\n",
       "</style>\n",
       "<table border=\"1\" class=\"dataframe\">\n",
       "  <thead>\n",
       "    <tr style=\"text-align: right;\">\n",
       "      <th></th>\n",
       "      <th>symbol</th>\n",
       "      <th>date</th>\n",
       "      <th>open</th>\n",
       "      <th>high</th>\n",
       "      <th>low</th>\n",
       "      <th>close</th>\n",
       "      <th>close_adjusted</th>\n",
       "      <th>volume</th>\n",
       "      <th>split_coefficient</th>\n",
       "    </tr>\n",
       "  </thead>\n",
       "  <tbody>\n",
       "    <tr>\n",
       "      <th>0</th>\n",
       "      <td>MSFT</td>\n",
       "      <td>2016-05-16</td>\n",
       "      <td>50.80</td>\n",
       "      <td>51.96</td>\n",
       "      <td>50.75</td>\n",
       "      <td>51.83</td>\n",
       "      <td>49.7013</td>\n",
       "      <td>20032017</td>\n",
       "      <td>1.0</td>\n",
       "    </tr>\n",
       "    <tr>\n",
       "      <th>1</th>\n",
       "      <td>MSFT</td>\n",
       "      <td>2002-01-16</td>\n",
       "      <td>68.85</td>\n",
       "      <td>69.84</td>\n",
       "      <td>67.85</td>\n",
       "      <td>67.87</td>\n",
       "      <td>22.5902</td>\n",
       "      <td>30977700</td>\n",
       "      <td>1.0</td>\n",
       "    </tr>\n",
       "  </tbody>\n",
       "</table>\n",
       "</div>"
      ],
      "text/plain": [
       "  symbol        date   open   high    low  close  close_adjusted    volume  \\\n",
       "0   MSFT  2016-05-16  50.80  51.96  50.75  51.83         49.7013  20032017   \n",
       "1   MSFT  2002-01-16  68.85  69.84  67.85  67.87         22.5902  30977700   \n",
       "\n",
       "   split_coefficient  \n",
       "0                1.0  \n",
       "1                1.0  "
      ]
     },
     "execution_count": 83,
     "metadata": {},
     "output_type": "execute_result"
    }
   ],
   "source": [
    "stockprice_df.head(2)"
   ]
  },
  {
   "cell_type": "code",
   "execution_count": 76,
   "metadata": {},
   "outputs": [
    {
     "name": "stdout",
     "output_type": "stream",
     "text": [
      "stockprice_df_apple:\n"
     ]
    },
    {
     "data": {
      "text/html": [
       "<div>\n",
       "<style scoped>\n",
       "    .dataframe tbody tr th:only-of-type {\n",
       "        vertical-align: middle;\n",
       "    }\n",
       "\n",
       "    .dataframe tbody tr th {\n",
       "        vertical-align: top;\n",
       "    }\n",
       "\n",
       "    .dataframe thead th {\n",
       "        text-align: right;\n",
       "    }\n",
       "</style>\n",
       "<table border=\"1\" class=\"dataframe\">\n",
       "  <thead>\n",
       "    <tr style=\"text-align: right;\">\n",
       "      <th></th>\n",
       "      <th>year</th>\n",
       "      <th>date</th>\n",
       "      <th>open</th>\n",
       "      <th>high</th>\n",
       "      <th>low</th>\n",
       "      <th>close</th>\n",
       "      <th>close_adjusted</th>\n",
       "      <th>volume</th>\n",
       "      <th>split_coefficient</th>\n",
       "    </tr>\n",
       "  </thead>\n",
       "  <tbody>\n",
       "    <tr>\n",
       "      <th>0</th>\n",
       "      <td>1998</td>\n",
       "      <td>1998-01-02</td>\n",
       "      <td>13.63</td>\n",
       "      <td>16.25</td>\n",
       "      <td>13.50</td>\n",
       "      <td>16.25</td>\n",
       "      <td>0.5103</td>\n",
       "      <td>6411700</td>\n",
       "      <td>1.0</td>\n",
       "    </tr>\n",
       "    <tr>\n",
       "      <th>1</th>\n",
       "      <td>1998</td>\n",
       "      <td>1998-01-05</td>\n",
       "      <td>16.50</td>\n",
       "      <td>16.56</td>\n",
       "      <td>15.19</td>\n",
       "      <td>15.88</td>\n",
       "      <td>0.4987</td>\n",
       "      <td>5820300</td>\n",
       "      <td>1.0</td>\n",
       "    </tr>\n",
       "    <tr>\n",
       "      <th>2</th>\n",
       "      <td>1998</td>\n",
       "      <td>1998-01-06</td>\n",
       "      <td>15.94</td>\n",
       "      <td>20.00</td>\n",
       "      <td>14.75</td>\n",
       "      <td>18.94</td>\n",
       "      <td>0.5948</td>\n",
       "      <td>16182800</td>\n",
       "      <td>1.0</td>\n",
       "    </tr>\n",
       "    <tr>\n",
       "      <th>3</th>\n",
       "      <td>1998</td>\n",
       "      <td>1998-01-07</td>\n",
       "      <td>18.81</td>\n",
       "      <td>19.00</td>\n",
       "      <td>17.31</td>\n",
       "      <td>17.50</td>\n",
       "      <td>0.5496</td>\n",
       "      <td>9300200</td>\n",
       "      <td>1.0</td>\n",
       "    </tr>\n",
       "    <tr>\n",
       "      <th>4</th>\n",
       "      <td>1998</td>\n",
       "      <td>1998-01-08</td>\n",
       "      <td>17.44</td>\n",
       "      <td>18.62</td>\n",
       "      <td>16.94</td>\n",
       "      <td>18.19</td>\n",
       "      <td>0.5713</td>\n",
       "      <td>6910900</td>\n",
       "      <td>1.0</td>\n",
       "    </tr>\n",
       "  </tbody>\n",
       "</table>\n",
       "</div>"
      ],
      "text/plain": [
       "   year        date   open   high    low  close  close_adjusted    volume  \\\n",
       "0  1998  1998-01-02  13.63  16.25  13.50  16.25          0.5103   6411700   \n",
       "1  1998  1998-01-05  16.50  16.56  15.19  15.88          0.4987   5820300   \n",
       "2  1998  1998-01-06  15.94  20.00  14.75  18.94          0.5948  16182800   \n",
       "3  1998  1998-01-07  18.81  19.00  17.31  17.50          0.5496   9300200   \n",
       "4  1998  1998-01-08  17.44  18.62  16.94  18.19          0.5713   6910900   \n",
       "\n",
       "   split_coefficient  \n",
       "0                1.0  \n",
       "1                1.0  \n",
       "2                1.0  \n",
       "3                1.0  \n",
       "4                1.0  "
      ]
     },
     "execution_count": 76,
     "metadata": {},
     "output_type": "execute_result"
    }
   ],
   "source": [
    "# Stockprice Apple data\n",
    "print('stockprice_df_apple:')\n",
    "\n",
    "# Extract stockprice data\n",
    "stockprice_df_apple=stockprice_df[stockprice_df.symbol=='AAPL'] \n",
    "#print('\\n', stockprice_df_apple.head(2))\n",
    "\n",
    "# Add a column 'year' \n",
    "stockprice_df_apple['year'] = pd.DatetimeIndex(stockprice_df_apple['date']).year \n",
    "#print('\\n', stockprice_df_apple.head(2))\n",
    "\n",
    "# Compute the mean of the data group by year and and date\n",
    "stockprice_df_apple = stockprice_df_apple.groupby(['year','date']).mean() \n",
    "#print('\\n', stockprice_df_apple.head(2))\n",
    "\n",
    "# Reset index\n",
    "stockprice_df_apple.reset_index(inplace=True)\n",
    "stockprice_df_apple.head()"
   ]
  },
  {
   "cell_type": "markdown",
   "metadata": {},
   "source": [
    "#### Summary Data"
   ]
  },
  {
   "cell_type": "code",
   "execution_count": 84,
   "metadata": {},
   "outputs": [
    {
     "data": {
      "text/html": [
       "<div>\n",
       "<style scoped>\n",
       "    .dataframe tbody tr th:only-of-type {\n",
       "        vertical-align: middle;\n",
       "    }\n",
       "\n",
       "    .dataframe tbody tr th {\n",
       "        vertical-align: top;\n",
       "    }\n",
       "\n",
       "    .dataframe thead th {\n",
       "        text-align: right;\n",
       "    }\n",
       "</style>\n",
       "<table border=\"1\" class=\"dataframe\">\n",
       "  <thead>\n",
       "    <tr style=\"text-align: right;\">\n",
       "      <th></th>\n",
       "      <th>symbol</th>\n",
       "      <th>total_prices</th>\n",
       "      <th>stock_from_date</th>\n",
       "      <th>stock_to_date</th>\n",
       "      <th>total_earnings</th>\n",
       "      <th>earnings_from_date</th>\n",
       "      <th>earnings_to_date</th>\n",
       "    </tr>\n",
       "  </thead>\n",
       "  <tbody>\n",
       "    <tr>\n",
       "      <th>0</th>\n",
       "      <td>A</td>\n",
       "      <td>5418</td>\n",
       "      <td>1999-11-18</td>\n",
       "      <td>2021-06-02</td>\n",
       "      <td>49</td>\n",
       "      <td>2009-05-14</td>\n",
       "      <td>2021-05-25</td>\n",
       "    </tr>\n",
       "    <tr>\n",
       "      <th>1</th>\n",
       "      <td>AA</td>\n",
       "      <td>1153</td>\n",
       "      <td>2016-11-01</td>\n",
       "      <td>2021-06-02</td>\n",
       "      <td>18</td>\n",
       "      <td>2017-01-24</td>\n",
       "      <td>2021-04-15</td>\n",
       "    </tr>\n",
       "  </tbody>\n",
       "</table>\n",
       "</div>"
      ],
      "text/plain": [
       "  symbol  total_prices stock_from_date stock_to_date  total_earnings  \\\n",
       "0      A          5418      1999-11-18    2021-06-02              49   \n",
       "1     AA          1153      2016-11-01    2021-06-02              18   \n",
       "\n",
       "  earnings_from_date earnings_to_date  \n",
       "0         2009-05-14       2021-05-25  \n",
       "1         2017-01-24       2021-04-15  "
      ]
     },
     "execution_count": 84,
     "metadata": {},
     "output_type": "execute_result"
    }
   ],
   "source": [
    "summary_df.head(2)"
   ]
  },
  {
   "cell_type": "code",
   "execution_count": 87,
   "metadata": {},
   "outputs": [
    {
     "name": "stdout",
     "output_type": "stream",
     "text": [
      "summary_df_apple:\n"
     ]
    },
    {
     "data": {
      "text/html": [
       "<div>\n",
       "<style scoped>\n",
       "    .dataframe tbody tr th:only-of-type {\n",
       "        vertical-align: middle;\n",
       "    }\n",
       "\n",
       "    .dataframe tbody tr th {\n",
       "        vertical-align: top;\n",
       "    }\n",
       "\n",
       "    .dataframe thead th {\n",
       "        text-align: right;\n",
       "    }\n",
       "</style>\n",
       "<table border=\"1\" class=\"dataframe\">\n",
       "  <thead>\n",
       "    <tr style=\"text-align: right;\">\n",
       "      <th></th>\n",
       "      <th>index</th>\n",
       "      <th>symbol</th>\n",
       "      <th>total_prices</th>\n",
       "      <th>stock_from_date</th>\n",
       "      <th>stock_to_date</th>\n",
       "      <th>total_earnings</th>\n",
       "      <th>earnings_from_date</th>\n",
       "      <th>earnings_to_date</th>\n",
       "    </tr>\n",
       "  </thead>\n",
       "  <tbody>\n",
       "    <tr>\n",
       "      <th>0</th>\n",
       "      <td>16</td>\n",
       "      <td>AAPL</td>\n",
       "      <td>5899</td>\n",
       "      <td>1998-01-02</td>\n",
       "      <td>2021-06-11</td>\n",
       "      <td>48</td>\n",
       "      <td>2009-07-21</td>\n",
       "      <td>2021-04-28</td>\n",
       "    </tr>\n",
       "  </tbody>\n",
       "</table>\n",
       "</div>"
      ],
      "text/plain": [
       "   index symbol  total_prices stock_from_date stock_to_date  total_earnings  \\\n",
       "0     16   AAPL          5899      1998-01-02    2021-06-11              48   \n",
       "\n",
       "  earnings_from_date earnings_to_date  \n",
       "0         2009-07-21       2021-04-28  "
      ]
     },
     "execution_count": 87,
     "metadata": {},
     "output_type": "execute_result"
    }
   ],
   "source": [
    "# Summary Apple data\n",
    "print('summary_df_apple:')\n",
    "\n",
    "# Extract summary data\n",
    "summary_df_apple = summary_df[summary_df.symbol=='AAPL']   \n",
    "#print(summary_df_apple.head(2))\n",
    "\n",
    "# Reset index\n",
    "summary_df_apple.reset_index(inplace=True)\n",
    "summary_df_apple.head()"
   ]
  },
  {
   "cell_type": "markdown",
   "metadata": {},
   "source": [
    "**Note:** Since yearly summary data for each company can be derived from the three dataframes dividends, earnings and stickprice. The last dataframe won't be needed."
   ]
  },
  {
   "cell_type": "markdown",
   "metadata": {},
   "source": [
    "### Merging dividend, earning, stock data for Apple stock"
   ]
  },
  {
   "cell_type": "code",
   "execution_count": 93,
   "metadata": {},
   "outputs": [
    {
     "data": {
      "text/html": [
       "<div>\n",
       "<style scoped>\n",
       "    .dataframe tbody tr th:only-of-type {\n",
       "        vertical-align: middle;\n",
       "    }\n",
       "\n",
       "    .dataframe tbody tr th {\n",
       "        vertical-align: top;\n",
       "    }\n",
       "\n",
       "    .dataframe thead th {\n",
       "        text-align: right;\n",
       "    }\n",
       "</style>\n",
       "<table border=\"1\" class=\"dataframe\">\n",
       "  <thead>\n",
       "    <tr style=\"text-align: right;\">\n",
       "      <th></th>\n",
       "      <th>year</th>\n",
       "      <th>date</th>\n",
       "      <th>open</th>\n",
       "      <th>high</th>\n",
       "      <th>low</th>\n",
       "      <th>close</th>\n",
       "      <th>close_adjusted</th>\n",
       "      <th>volume</th>\n",
       "      <th>split_coefficient</th>\n",
       "      <th>release_time</th>\n",
       "      <th>qtr</th>\n",
       "      <th>eps_est</th>\n",
       "      <th>eps</th>\n",
       "      <th>dividend</th>\n",
       "    </tr>\n",
       "  </thead>\n",
       "  <tbody>\n",
       "    <tr>\n",
       "      <th>0</th>\n",
       "      <td>1998</td>\n",
       "      <td>1998-01-02</td>\n",
       "      <td>13.63</td>\n",
       "      <td>16.25</td>\n",
       "      <td>13.50</td>\n",
       "      <td>16.25</td>\n",
       "      <td>0.5103</td>\n",
       "      <td>6411700</td>\n",
       "      <td>1.0</td>\n",
       "      <td>no record</td>\n",
       "      <td>no record</td>\n",
       "      <td>no record</td>\n",
       "      <td>no record</td>\n",
       "      <td>no record</td>\n",
       "    </tr>\n",
       "    <tr>\n",
       "      <th>1</th>\n",
       "      <td>1998</td>\n",
       "      <td>1998-01-05</td>\n",
       "      <td>16.50</td>\n",
       "      <td>16.56</td>\n",
       "      <td>15.19</td>\n",
       "      <td>15.88</td>\n",
       "      <td>0.4987</td>\n",
       "      <td>5820300</td>\n",
       "      <td>1.0</td>\n",
       "      <td>no record</td>\n",
       "      <td>no record</td>\n",
       "      <td>no record</td>\n",
       "      <td>no record</td>\n",
       "      <td>no record</td>\n",
       "    </tr>\n",
       "    <tr>\n",
       "      <th>2</th>\n",
       "      <td>1998</td>\n",
       "      <td>1998-01-06</td>\n",
       "      <td>15.94</td>\n",
       "      <td>20.00</td>\n",
       "      <td>14.75</td>\n",
       "      <td>18.94</td>\n",
       "      <td>0.5948</td>\n",
       "      <td>16182800</td>\n",
       "      <td>1.0</td>\n",
       "      <td>no record</td>\n",
       "      <td>no record</td>\n",
       "      <td>no record</td>\n",
       "      <td>no record</td>\n",
       "      <td>no record</td>\n",
       "    </tr>\n",
       "    <tr>\n",
       "      <th>3</th>\n",
       "      <td>1998</td>\n",
       "      <td>1998-01-07</td>\n",
       "      <td>18.81</td>\n",
       "      <td>19.00</td>\n",
       "      <td>17.31</td>\n",
       "      <td>17.50</td>\n",
       "      <td>0.5496</td>\n",
       "      <td>9300200</td>\n",
       "      <td>1.0</td>\n",
       "      <td>no record</td>\n",
       "      <td>no record</td>\n",
       "      <td>no record</td>\n",
       "      <td>no record</td>\n",
       "      <td>no record</td>\n",
       "    </tr>\n",
       "    <tr>\n",
       "      <th>4</th>\n",
       "      <td>1998</td>\n",
       "      <td>1998-01-08</td>\n",
       "      <td>17.44</td>\n",
       "      <td>18.62</td>\n",
       "      <td>16.94</td>\n",
       "      <td>18.19</td>\n",
       "      <td>0.5713</td>\n",
       "      <td>6910900</td>\n",
       "      <td>1.0</td>\n",
       "      <td>no record</td>\n",
       "      <td>no record</td>\n",
       "      <td>no record</td>\n",
       "      <td>no record</td>\n",
       "      <td>no record</td>\n",
       "    </tr>\n",
       "  </tbody>\n",
       "</table>\n",
       "</div>"
      ],
      "text/plain": [
       "   year        date   open   high    low  close  close_adjusted    volume  \\\n",
       "0  1998  1998-01-02  13.63  16.25  13.50  16.25          0.5103   6411700   \n",
       "1  1998  1998-01-05  16.50  16.56  15.19  15.88          0.4987   5820300   \n",
       "2  1998  1998-01-06  15.94  20.00  14.75  18.94          0.5948  16182800   \n",
       "3  1998  1998-01-07  18.81  19.00  17.31  17.50          0.5496   9300200   \n",
       "4  1998  1998-01-08  17.44  18.62  16.94  18.19          0.5713   6910900   \n",
       "\n",
       "   split_coefficient release_time        qtr    eps_est        eps   dividend  \n",
       "0                1.0    no record  no record  no record  no record  no record  \n",
       "1                1.0    no record  no record  no record  no record  no record  \n",
       "2                1.0    no record  no record  no record  no record  no record  \n",
       "3                1.0    no record  no record  no record  no record  no record  \n",
       "4                1.0    no record  no record  no record  no record  no record  "
      ]
     },
     "execution_count": 93,
     "metadata": {},
     "output_type": "execute_result"
    }
   ],
   "source": [
    "df = pd.merge(stockprice_df_apple, earning_df_apple, how='left', on='year')\n",
    "df = pd.merge(df, dividend_df_apple, how='left', on='year')\n",
    "df.fillna('no record', inplace=True)\n",
    "df.head()"
   ]
  },
  {
   "cell_type": "code",
   "execution_count": 94,
   "metadata": {},
   "outputs": [
    {
     "data": {
      "text/html": [
       "<div>\n",
       "<style scoped>\n",
       "    .dataframe tbody tr th:only-of-type {\n",
       "        vertical-align: middle;\n",
       "    }\n",
       "\n",
       "    .dataframe tbody tr th {\n",
       "        vertical-align: top;\n",
       "    }\n",
       "\n",
       "    .dataframe thead th {\n",
       "        text-align: right;\n",
       "    }\n",
       "</style>\n",
       "<table border=\"1\" class=\"dataframe\">\n",
       "  <thead>\n",
       "    <tr style=\"text-align: right;\">\n",
       "      <th></th>\n",
       "      <th>year</th>\n",
       "      <th>date</th>\n",
       "      <th>open</th>\n",
       "      <th>high</th>\n",
       "      <th>low</th>\n",
       "      <th>close</th>\n",
       "      <th>close_adjusted</th>\n",
       "      <th>volume</th>\n",
       "      <th>split_coefficient</th>\n",
       "      <th>release_time</th>\n",
       "      <th>qtr</th>\n",
       "      <th>eps_est</th>\n",
       "      <th>eps</th>\n",
       "      <th>dividend</th>\n",
       "    </tr>\n",
       "  </thead>\n",
       "  <tbody>\n",
       "    <tr>\n",
       "      <th>12050</th>\n",
       "      <td>2021</td>\n",
       "      <td>2021-06-09</td>\n",
       "      <td>127.21</td>\n",
       "      <td>127.75</td>\n",
       "      <td>126.52</td>\n",
       "      <td>127.13</td>\n",
       "      <td>127.13</td>\n",
       "      <td>56877937</td>\n",
       "      <td>1.0</td>\n",
       "      <td>post</td>\n",
       "      <td>2</td>\n",
       "      <td>0.987</td>\n",
       "      <td>1.4</td>\n",
       "      <td>0.2125</td>\n",
       "    </tr>\n",
       "    <tr>\n",
       "      <th>12051</th>\n",
       "      <td>2021</td>\n",
       "      <td>2021-06-10</td>\n",
       "      <td>127.02</td>\n",
       "      <td>128.19</td>\n",
       "      <td>125.94</td>\n",
       "      <td>126.11</td>\n",
       "      <td>126.11</td>\n",
       "      <td>71186421</td>\n",
       "      <td>1.0</td>\n",
       "      <td>post</td>\n",
       "      <td>1</td>\n",
       "      <td>1.412</td>\n",
       "      <td>1.68</td>\n",
       "      <td>0.2125</td>\n",
       "    </tr>\n",
       "    <tr>\n",
       "      <th>12052</th>\n",
       "      <td>2021</td>\n",
       "      <td>2021-06-10</td>\n",
       "      <td>127.02</td>\n",
       "      <td>128.19</td>\n",
       "      <td>125.94</td>\n",
       "      <td>126.11</td>\n",
       "      <td>126.11</td>\n",
       "      <td>71186421</td>\n",
       "      <td>1.0</td>\n",
       "      <td>post</td>\n",
       "      <td>2</td>\n",
       "      <td>0.987</td>\n",
       "      <td>1.4</td>\n",
       "      <td>0.2125</td>\n",
       "    </tr>\n",
       "    <tr>\n",
       "      <th>12053</th>\n",
       "      <td>2021</td>\n",
       "      <td>2021-06-11</td>\n",
       "      <td>126.53</td>\n",
       "      <td>127.44</td>\n",
       "      <td>126.10</td>\n",
       "      <td>127.35</td>\n",
       "      <td>127.35</td>\n",
       "      <td>53522373</td>\n",
       "      <td>1.0</td>\n",
       "      <td>post</td>\n",
       "      <td>1</td>\n",
       "      <td>1.412</td>\n",
       "      <td>1.68</td>\n",
       "      <td>0.2125</td>\n",
       "    </tr>\n",
       "    <tr>\n",
       "      <th>12054</th>\n",
       "      <td>2021</td>\n",
       "      <td>2021-06-11</td>\n",
       "      <td>126.53</td>\n",
       "      <td>127.44</td>\n",
       "      <td>126.10</td>\n",
       "      <td>127.35</td>\n",
       "      <td>127.35</td>\n",
       "      <td>53522373</td>\n",
       "      <td>1.0</td>\n",
       "      <td>post</td>\n",
       "      <td>2</td>\n",
       "      <td>0.987</td>\n",
       "      <td>1.4</td>\n",
       "      <td>0.2125</td>\n",
       "    </tr>\n",
       "  </tbody>\n",
       "</table>\n",
       "</div>"
      ],
      "text/plain": [
       "       year        date    open    high     low   close  close_adjusted  \\\n",
       "12050  2021  2021-06-09  127.21  127.75  126.52  127.13          127.13   \n",
       "12051  2021  2021-06-10  127.02  128.19  125.94  126.11          126.11   \n",
       "12052  2021  2021-06-10  127.02  128.19  125.94  126.11          126.11   \n",
       "12053  2021  2021-06-11  126.53  127.44  126.10  127.35          127.35   \n",
       "12054  2021  2021-06-11  126.53  127.44  126.10  127.35          127.35   \n",
       "\n",
       "         volume  split_coefficient release_time qtr eps_est   eps dividend  \n",
       "12050  56877937                1.0         post   2   0.987   1.4   0.2125  \n",
       "12051  71186421                1.0         post   1   1.412  1.68   0.2125  \n",
       "12052  71186421                1.0         post   2   0.987   1.4   0.2125  \n",
       "12053  53522373                1.0         post   1   1.412  1.68   0.2125  \n",
       "12054  53522373                1.0         post   2   0.987   1.4   0.2125  "
      ]
     },
     "execution_count": 94,
     "metadata": {},
     "output_type": "execute_result"
    }
   ],
   "source": [
    "df.tail()"
   ]
  },
  {
   "cell_type": "code",
   "execution_count": 95,
   "metadata": {},
   "outputs": [
    {
     "data": {
      "text/plain": [
       "(12055, 14)"
      ]
     },
     "execution_count": 95,
     "metadata": {},
     "output_type": "execute_result"
    }
   ],
   "source": [
    "df.shape"
   ]
  },
  {
   "cell_type": "markdown",
   "metadata": {},
   "source": [
    "### Save Apple dataframe as a new CSV file"
   ]
  },
  {
   "cell_type": "code",
   "execution_count": 96,
   "metadata": {},
   "outputs": [],
   "source": [
    "df.to_csv('data/apple_stockdata_wrangled.csv')"
   ]
  },
  {
   "cell_type": "code",
   "execution_count": null,
   "metadata": {},
   "outputs": [],
   "source": []
  },
  {
   "cell_type": "markdown",
   "metadata": {},
   "source": [
    "# 3. Exploratiry Data Analysis"
   ]
  },
  {
   "cell_type": "markdown",
   "metadata": {},
   "source": [
    "# 4. Data Modeling"
   ]
  },
  {
   "cell_type": "code",
   "execution_count": null,
   "metadata": {},
   "outputs": [],
   "source": []
  }
 ],
 "metadata": {
  "kernelspec": {
   "display_name": "Python 3",
   "language": "python",
   "name": "python3"
  },
  "language_info": {
   "codemirror_mode": {
    "name": "ipython",
    "version": 3
   },
   "file_extension": ".py",
   "mimetype": "text/x-python",
   "name": "python",
   "nbconvert_exporter": "python",
   "pygments_lexer": "ipython3",
   "version": "3.8.5"
  },
  "toc": {
   "base_numbering": 1,
   "nav_menu": {},
   "number_sections": true,
   "sideBar": true,
   "skip_h1_title": false,
   "title_cell": "Table of Contents",
   "title_sidebar": "Contents",
   "toc_cell": false,
   "toc_position": {},
   "toc_section_display": true,
   "toc_window_display": true
  },
  "varInspector": {
   "cols": {
    "lenName": 16,
    "lenType": 16,
    "lenVar": 40
   },
   "kernels_config": {
    "python": {
     "delete_cmd_postfix": "",
     "delete_cmd_prefix": "del ",
     "library": "var_list.py",
     "varRefreshCmd": "print(var_dic_list())"
    },
    "r": {
     "delete_cmd_postfix": ") ",
     "delete_cmd_prefix": "rm(",
     "library": "var_list.r",
     "varRefreshCmd": "cat(var_dic_list()) "
    }
   },
   "types_to_exclude": [
    "module",
    "function",
    "builtin_function_or_method",
    "instance",
    "_Feature"
   ],
   "window_display": false
  }
 },
 "nbformat": 4,
 "nbformat_minor": 4
}
